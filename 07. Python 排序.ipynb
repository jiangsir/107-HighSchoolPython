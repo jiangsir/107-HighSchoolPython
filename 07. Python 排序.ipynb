{
 "cells": [
  {
   "cell_type": "markdown",
   "metadata": {},
   "source": [
    "# sort 與 sorted 的差別\n",
    "\n",
    "sort() 是一個 list 函數，只能用在 list\n",
    "\n",
    "sort() 會針對原 list 直接排序\n",
    "\n",
    "sorted() 是一個內建函數，可針對所有的容器(iterable) 進行排序，因此運用範圍較廣。\n",
    "\n",
    "sorted() 會創建出一個新的排序後的物件。"
   ]
  },
  {
   "cell_type": "code",
   "execution_count": null,
   "metadata": {},
   "outputs": [],
   "source": []
  },
  {
   "cell_type": "markdown",
   "metadata": {},
   "source": [
    "## 串列的排序"
   ]
  },
  {
   "cell_type": "code",
   "execution_count": 9,
   "metadata": {},
   "outputs": [
    {
     "name": "stdout",
     "output_type": "stream",
     "text": [
      "['Marry', 'Tom', 'John', 'C', 'E', 'D']\n",
      "['C', 'D', 'E', 'John', 'Marry', 'Tom']\n",
      "['Marry', 'Tom', 'John', 'C', 'E', 'D']\n",
      "['C', 'D', 'E', 'John', 'Marry', 'Tom']\n",
      "[1, 2, 3, 3, 4, 23, 98]\n",
      "[98, 23, 4, 3, 3, 2, 1]\n"
     ]
    }
   ],
   "source": [
    "\n",
    "wlist = ['Marry','Tom','John','C','E','D']\n",
    "print(wlist)\n",
    "print(sorted(wlist))\n",
    "print(wlist)\n",
    "\n",
    "wlist = sorted(wlist) # 排序 字典序\n",
    "print(wlist)\n",
    "\n",
    "nlist = [4,23,1,3,2,98,3]\n",
    "print(sorted(nlist)) # 排序\n",
    "print(sorted(nlist, reverse=True)) # 反向排序\n"
   ]
  },
  {
   "cell_type": "code",
   "execution_count": 16,
   "metadata": {},
   "outputs": [],
   "source": [
    "from random import randint\n",
    "randoms = [randint(0, 9) for i in range(10)]\n",
    "\n"
   ]
  },
  {
   "cell_type": "markdown",
   "metadata": {},
   "source": [
    "randoms.sort()\n",
    "\n",
    "sorted()\n"
   ]
  },
  {
   "cell_type": "markdown",
   "metadata": {},
   "source": [
    "# 自訂排序\n",
    "\n",
    "標準排序是用標準的字典排序法，但如果需要特殊排序原則，則需要自訂排序。比如: 有一批英文單字，想要依單字長度進行排序。"
   ]
  },
  {
   "cell_type": "markdown",
   "metadata": {},
   "source": [
    "## 用 key 指定排序函數"
   ]
  },
  {
   "cell_type": "code",
   "execution_count": 3,
   "metadata": {},
   "outputs": [
    {
     "name": "stdout",
     "output_type": "stream",
     "text": [
      "['hi', 'book', 'hello', 'apple']\n"
     ]
    }
   ],
   "source": [
    "# 用單字長度進行排序\n",
    "\n",
    "words = ['hello', 'hi', 'book', 'apple']\n",
    "\n",
    "def sort_key(word):\n",
    "    return len(word)\n",
    "\n",
    "words.sort(key=sort_key)\n",
    "\n",
    "\n",
    "print(words)"
   ]
  },
  {
   "cell_type": "code",
   "execution_count": 14,
   "metadata": {},
   "outputs": [
    {
     "name": "stdout",
     "output_type": "stream",
     "text": [
      "['ababa', 'bbaa', 'cbaba']\n"
     ]
    }
   ],
   "source": [
    "my_alphabet = ['a', 'b', 'c'] \n",
    "def custom_key(word):\n",
    "    numbers = [] \n",
    "    for letter in word: \n",
    "        numbers.append(my_alphabet.index(letter)) \n",
    "        return numbers # python中的整数列表能够比较大小 \n",
    "    # custom_key('cbaba')==[2, 1, 0, 1, 0] \n",
    "\n",
    "x=['cbaba', 'ababa', 'bbaa'] \n",
    "x.sort(key=custom_key)\n",
    "\n",
    "print(x)\n"
   ]
  },
  {
   "cell_type": "code",
   "execution_count": 15,
   "metadata": {},
   "outputs": [
    {
     "data": {
      "text/plain": [
       "[('dave', 'B', 10), ('jane', 'B', 12), ('john', 'A', 15)]"
      ]
     },
     "execution_count": 15,
     "metadata": {},
     "output_type": "execute_result"
    }
   ],
   "source": [
    "students = [('john', 'A', 15), ('jane', 'B', 12), ('dave','B', 10)]\n",
    "sorted(students,key=lambda x: x[2]) #按照年龄来排序\n"
   ]
  },
  {
   "cell_type": "markdown",
   "metadata": {},
   "source": [
    "# 用 key 指定排序函數"
   ]
  },
  {
   "cell_type": "code",
   "execution_count": 1,
   "metadata": {},
   "outputs": [
    {
     "name": "stdout",
     "output_type": "stream",
     "text": [
      "['ababa', 'bbaa', 'cbaba']\n"
     ]
    }
   ],
   "source": [
    "my_alphabet = ['a', 'b', 'c'] \n",
    "def custom_key(word):\n",
    "    numbers = [] \n",
    "    for letter in word: \n",
    "        numbers.append(my_alphabet.index(letter)) \n",
    "        return numbers # python中的整数列表能够比较大小 \n",
    "    # custom_key('cbaba')==[2, 1, 0, 1, 0] \n",
    "\n",
    "x=['cbaba', 'ababa', 'bbaa'] \n",
    "x.sort(key=custom_key)\n",
    "\n",
    "print(x)\n"
   ]
  },
  {
   "cell_type": "code",
   "execution_count": 15,
   "metadata": {},
   "outputs": [
    {
     "data": {
      "text/plain": [
       "[('dave', 'B', 10), ('jane', 'B', 12), ('john', 'A', 15)]"
      ]
     },
     "execution_count": 15,
     "metadata": {},
     "output_type": "execute_result"
    }
   ],
   "source": [
    "students = [('john', 'A', 15), ('jane', 'B', 12), ('dave','B', 10)]\n",
    "sorted(students,key=lambda x: x[2]) #按照年龄来排序\n"
   ]
  },
  {
   "cell_type": "code",
   "execution_count": 11,
   "metadata": {},
   "outputs": [
    {
     "name": "stdout",
     "output_type": "stream",
     "text": [
      "[('dave', 'B', 10), ('jane', 'B', 12), ('john', 'A', 15)]\n",
      "[('dave', 'B', 10), ('jane', 'B', 12), ('john', 'A', 15)]\n",
      "[('john', 'A', 15), ('dave', 'B', 10), ('jane', 'B', 12)]\n"
     ]
    }
   ],
   "source": [
    "from operator import itemgetter, attrgetter\n",
    "\n",
    "class Student:\n",
    "        def __init__(self, name, grade, age):\n",
    "                self.name = name\n",
    "                self.grade = grade\n",
    "                self.age = age\n",
    "        def __repr__(self):\n",
    "                return repr((self.name, self.grade, self.age))\n",
    "            \n",
    "            \n",
    "students = [\n",
    "        Student('john', 'A', 15),\n",
    "        Student('jane', 'B', 12),\n",
    "        Student('dave', 'B', 10),\n",
    "]\n",
    "\n",
    "# 用 物件的 attr: age 來排序\n",
    "ll = sorted(students, key=attrgetter('age'))\n",
    "print(ll)\n",
    "\n",
    "ll = sorted(students, key=lambda student: student.age)\n",
    "print(ll)\n",
    "\n",
    "# 如果要先比成績再比年齡的話，用operator module很簡單就可以做到\n",
    "ll = sorted(students, key=attrgetter('grade', 'age'))\n",
    "print(ll)\n",
    "\n"
   ]
  },
  {
   "cell_type": "code",
   "execution_count": 12,
   "metadata": {},
   "outputs": [
    {
     "name": "stdout",
     "output_type": "stream",
     "text": [
      "[1, 2, 3, 4]\n"
     ]
    }
   ],
   "source": [
    "from functools import cmp_to_key\n",
    "\n",
    "nums = [1, 3, 2, 4]\n",
    "nums.sort(key=cmp_to_key(lambda a, b: a - b))\n",
    "print(nums)  # [1, 2, 3, 4]"
   ]
  }
 ],
 "metadata": {
  "kernelspec": {
   "display_name": "Python 3",
   "language": "python",
   "name": "python3"
  },
  "language_info": {
   "codemirror_mode": {
    "name": "ipython",
    "version": 3
   },
   "file_extension": ".py",
   "mimetype": "text/x-python",
   "name": "python",
   "nbconvert_exporter": "python",
   "pygments_lexer": "ipython3",
   "version": "3.6.5"
  }
 },
 "nbformat": 4,
 "nbformat_minor": 2
}
