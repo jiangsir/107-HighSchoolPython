{
 "cells": [
  {
   "cell_type": "markdown",
   "metadata": {},
   "source": [
    "# sort 與 sorted 的差別\n",
    "\n",
    "sort() 是一個 list 函數，只能用在 list\n",
    "\n",
    "sort() 會針對原 list 直接排序\n",
    "\n",
    "sorted() 是一個內建函數，可針對所有的容器(iterable) 進行排序，因此運用範圍較廣。\n",
    "\n",
    "sorted() 會創建出一個新的排序後的物件。"
   ]
  },
  {
   "cell_type": "markdown",
   "metadata": {},
   "source": [
    "# 排序是穩定的\n",
    "\n",
    "    排序保证是 稳定 的。 这意味着当多个记录具有相同的键值时，将保留其原始顺序。"
   ]
  },
  {
   "cell_type": "markdown",
   "metadata": {},
   "source": [
    "## 串列的排序"
   ]
  },
  {
   "cell_type": "code",
   "execution_count": 9,
   "metadata": {},
   "outputs": [
    {
     "name": "stdout",
     "output_type": "stream",
     "text": [
      "['Marry', 'Tom', 'John', 'C', 'E', 'D']\n",
      "['C', 'D', 'E', 'John', 'Marry', 'Tom']\n",
      "['Marry', 'Tom', 'John', 'C', 'E', 'D']\n",
      "['C', 'D', 'E', 'John', 'Marry', 'Tom']\n",
      "[1, 2, 3, 3, 4, 23, 98]\n",
      "[98, 23, 4, 3, 3, 2, 1]\n"
     ]
    }
   ],
   "source": [
    "\n",
    "wlist = ['Marry','Tom','John','C','E','D']\n",
    "print(wlist)\n",
    "print(sorted(wlist))\n",
    "print(wlist)\n",
    "\n",
    "wlist = sorted(wlist) # 排序 字典序\n",
    "print(wlist)\n",
    "\n",
    "nlist = [4,23,1,3,2,98,3]\n",
    "print(sorted(nlist)) # 排序\n",
    "print(sorted(nlist, reverse=True)) # 反向排序\n"
   ]
  },
  {
   "cell_type": "code",
   "execution_count": 16,
   "metadata": {},
   "outputs": [],
   "source": [
    "from random import randint\n",
    "randoms = [randint(0, 9) for i in range(10)]\n",
    "\n"
   ]
  },
  {
   "cell_type": "markdown",
   "metadata": {},
   "source": [
    "randoms.sort()\n",
    "\n",
    "sorted()\n"
   ]
  },
  {
   "cell_type": "markdown",
   "metadata": {},
   "source": [
    "# 自訂排序\n",
    "\n",
    "標準排序是用標準的字典排序法，但如果需要特殊排序原則，則需要自訂排序。比如: 有一批英文單字，想要依單字長度進行排序。"
   ]
  },
  {
   "cell_type": "markdown",
   "metadata": {},
   "source": [
    "## 用 key 指定排序函數"
   ]
  },
  {
   "cell_type": "code",
   "execution_count": 3,
   "metadata": {},
   "outputs": [
    {
     "name": "stdout",
     "output_type": "stream",
     "text": [
      "['hi', 'book', 'hello', 'apple']\n"
     ]
    }
   ],
   "source": [
    "# 用單字長度進行排序\n",
    "\n",
    "words = ['hello', 'hi', 'book', 'apple']\n",
    "\n",
    "def sort_key(word):\n",
    "    return len(word)\n",
    "\n",
    "words.sort(key=sort_key)\n",
    "\n",
    "print(words)"
   ]
  },
  {
   "cell_type": "code",
   "execution_count": 14,
   "metadata": {},
   "outputs": [
    {
     "name": "stdout",
     "output_type": "stream",
     "text": [
      "['ababa', 'bbaa', 'cbaba']\n"
     ]
    }
   ],
   "source": [
    "my_alphabet = ['a', 'b', 'c'] \n",
    "def custom_key(word):\n",
    "    numbers = [] \n",
    "    for letter in word: \n",
    "        numbers.append(my_alphabet.index(letter)) \n",
    "        return numbers # python中的整数列表能够比较大小 \n",
    "    # custom_key('cbaba')==[2, 1, 0, 1, 0] \n",
    "\n",
    "x=['cbaba', 'ababa', 'bbaa'] \n",
    "x.sort(key=custom_key)\n",
    "\n",
    "print(x)\n"
   ]
  },
  {
   "cell_type": "markdown",
   "metadata": {},
   "source": [
    "# 利用 lambda 函數來排序"
   ]
  },
  {
   "cell_type": "code",
   "execution_count": 2,
   "metadata": {},
   "outputs": [
    {
     "data": {
      "text/plain": [
       "[('dave', 'B', 10), ('jane', 'B', 12), ('john', 'A', 15)]"
      ]
     },
     "execution_count": 2,
     "metadata": {},
     "output_type": "execute_result"
    }
   ],
   "source": [
    "# 排序一個 list 的 tuple\n",
    "\n",
    "students = [('john', 'A', 15), ('jane', 'B', 12), ('dave','B', 10)]\n",
    "sorted(students,key=lambda x: x[2]) #按照年龄来排序\n"
   ]
  },
  {
   "cell_type": "code",
   "execution_count": null,
   "metadata": {},
   "outputs": [],
   "source": []
  },
  {
   "cell_type": "markdown",
   "metadata": {},
   "source": [
    "# 用 operator module 來排序"
   ]
  },
  {
   "cell_type": "code",
   "execution_count": 26,
   "metadata": {},
   "outputs": [
    {
     "name": "stdout",
     "output_type": "stream",
     "text": [
      "[('dave', 'B', 10), ('jane', 'B', 12), ('john', 'A', 15)]\n",
      "[('dave', 'B', 10), ('jane', 'B', 12), ('john', 'A', 15)]\n",
      "[('john', 'A', 15), ('dave', 'B', 10), ('jane', 'B', 12)]\n",
      "[('john', 'A', 15), ('dave', 'B', 10), ('jane', 'B', 12)]\n"
     ]
    }
   ],
   "source": [
    "from operator import itemgetter, attrgetter\n",
    "\n",
    "class Student:\n",
    "        def __init__(self, name, grade, age):\n",
    "                self.name = name\n",
    "                self.grade = grade\n",
    "                self.age = age\n",
    "        def __repr__(self):\n",
    "                return repr((self.name, self.grade, self.age))\n",
    "            \n",
    "            \n",
    "students = [\n",
    "        Student('john', 'A', 15),\n",
    "        Student('jane', 'B', 12),\n",
    "        Student('dave', 'B', 10),\n",
    "]\n",
    "\n",
    "# 用 物件的 attr: age 來排序\n",
    "ll = sorted(students, key=attrgetter('age'))\n",
    "print(ll)\n",
    "\n",
    "ll = sorted(students, key=lambda student: student.age)\n",
    "print(ll)\n",
    "\n",
    "# 如果要先比成績再比年齡的話，用operator module很簡單就可以做到\n",
    "ll = sorted(students, key=attrgetter('grade', 'age'))\n",
    "print(ll)\n",
    "\n",
    "\n",
    "\n",
    "# 用 key 函數來排序，先 grade 後 age，利用 tuple 會先比較第一個，後比較下一個的特性，另製作一個 tuple 做為比較的基礎。\n",
    "def sorted_keys(item):\n",
    "    return (item.grade, item.age)\n",
    "\n",
    "ll = sorted(students, key=sorted_keys)\n",
    "print(ll)\n",
    "\n",
    "\n"
   ]
  },
  {
   "cell_type": "markdown",
   "metadata": {},
   "source": [
    "# 多個鍵值多種順序的複雜排序\n",
    "\n",
    "排序保证是 稳定 的。 这意味着当多个记录具有相同的键值时，将保留其原始顺序。\n",
    "\n",
    "    >>> data = [('red', 1), ('blue', 1), ('red', 2), ('blue', 2)]\n",
    "    >>> sorted(data, key=itemgetter(0))\n",
    "    [('blue', 1), ('blue', 2), ('red', 1), ('red', 2)]\n",
    "\n",
    "注意 blue 的两个记录如何保留它们的原始顺序，以便 ('blue', 1) 保证在 ('blue', 2) 之前。\n",
    "\n",
    "这个美妙的属性允许你在一系列排序步骤中构建复杂的排序。例如，要按 grade 降序然后 age 升序对学生数据进行排序，请先 age 排序，然后再使用 grade 排序：\n",
    "\n",
    "    >>> s = sorted(student_objects, key=attrgetter('age'))     # sort on secondary key\n",
    "    >>> sorted(s, key=attrgetter('grade'), reverse=True)       # now sort on primary key, descending\n",
    "    [('dave', 'B', 10), ('jane', 'B', 12), ('john', 'A', 15)]\n",
    "\n"
   ]
  },
  {
   "cell_type": "code",
   "execution_count": null,
   "metadata": {},
   "outputs": [],
   "source": []
  },
  {
   "cell_type": "markdown",
   "metadata": {},
   "source": [
    "# 使用 cmp_to_key 來排序\n",
    "\n",
    "### 雖然 cmp 排序在 python3 已被取消，但是對於排序原則會牽涉到其它元素的排序方式，就很難用 key 來處理了。\n",
    "\n",
    "\n",
    "\n",
    "Leetcode 的 largest-number\n",
    "\n",
    "https://leetcode.com/problems/largest-number/\n",
    "\n"
   ]
  },
  {
   "cell_type": "code",
   "execution_count": 12,
   "metadata": {},
   "outputs": [
    {
     "name": "stdout",
     "output_type": "stream",
     "text": [
      "[1, 2, 3, 4]\n"
     ]
    }
   ],
   "source": [
    "from functools import cmp_to_key\n",
    "\n",
    "nums = [1, 3, 2, 4]\n",
    "nums.sort(key=cmp_to_key(lambda a, b: a - b))\n",
    "print(nums)  # [1, 2, 3, 4]"
   ]
  },
  {
   "cell_type": "code",
   "execution_count": 20,
   "metadata": {},
   "outputs": [
    {
     "name": "stdout",
     "output_type": "stream",
     "text": [
      "[5, 4, 2, 1]\n"
     ]
    }
   ],
   "source": [
    "import functools \n",
    "def cmp(a, b): \n",
    "    if b < a: \n",
    "        return -1 \n",
    "    if a < b: \n",
    "        return 1 \n",
    "    return 0 \n",
    "\n",
    "a = [1, 2, 5, 4] \n",
    "\n",
    "print(sorted(a, key=functools.cmp_to_key(cmp)))\n"
   ]
  },
  {
   "cell_type": "markdown",
   "metadata": {},
   "source": [
    "# Leetcode largest-number https://leetcode.com/problems/largest-number/ \n",
    "\n",
    "\n",
    "Given a list of non negative integers, arrange them such that they form the largest number.\n",
    "\n",
    "Example 1:\n",
    "\n",
    "Input: [10,2]\n",
    "Output: \"210\"\n",
    "\n",
    "Example 2:\n",
    "\n",
    "Input: [3,30,34,5,9]\n",
    "Output: \"9534330\"\n",
    "\n",
    "Note: The result may be very large, so you need to return a string instead of an integer.\n",
    "\n"
   ]
  },
  {
   "cell_type": "code",
   "execution_count": 18,
   "metadata": {},
   "outputs": [
    {
     "name": "stdout",
     "output_type": "stream",
     "text": [
      "8759234933323421\n"
     ]
    }
   ],
   "source": [
    "# 一組數字，排列出最大的數字\n",
    "\n",
    "ss = [1, 2, 333, 8, 234, 5923, 7, 49]\n",
    "\n",
    "ss = list(map(str, ss))\n",
    "\n",
    "def cmp(a, b):\n",
    "    return int(str(a)+str(b))-int(str(b)+str(a))\n",
    "\n",
    "sss = sorted(ss, key=functools.cmp_to_key(cmp), reverse=True)\n",
    "\n",
    "print(''.join(map(str, sss)))"
   ]
  },
  {
   "cell_type": "code",
   "execution_count": 16,
   "metadata": {},
   "outputs": [
    {
     "name": "stdout",
     "output_type": "stream",
     "text": [
      "8759234933323421\n"
     ]
    }
   ],
   "source": [
    "from functools import cmp_to_key\n",
    "\n",
    "def cmp(a, b):\n",
    "    return int(b + a) - int(a + b)\n",
    "        \n",
    "nums = [1, 2, 333, 8, 234, 5923, 7, 49]\n",
    "nums = list(map(str, nums))\n",
    "nums.sort(key=cmp_to_key(cmp))\n",
    "\n",
    "print(''.join(nums).lstrip('0') or '0')\n"
   ]
  },
  {
   "cell_type": "markdown",
   "metadata": {},
   "source": [
    "# Python3  sorted 的 key 解 largest numbers"
   ]
  },
  {
   "cell_type": "code",
   "execution_count": 12,
   "metadata": {},
   "outputs": [
    {
     "name": "stdout",
     "output_type": "stream",
     "text": [
      "8759234933323421\n"
     ]
    }
   ],
   "source": [
    "ss = [1, 2, 333, 8, 234, 5923, 7, 49]\n",
    "\n",
    "def cmp(x):\n",
    "    \n",
    "    return str(x).ljust(max(map(lambda i: len(str(i)),ss)), str(x)[-1])\n",
    "\n",
    "sss = sorted(ss, key=cmp , reverse=True)\n",
    "print(''.join(map(str, sss)))\n"
   ]
  },
  {
   "cell_type": "code",
   "execution_count": 22,
   "metadata": {},
   "outputs": [
    {
     "data": {
      "text/plain": [
       "'8759234933323421'"
      ]
     },
     "execution_count": 22,
     "metadata": {},
     "output_type": "execute_result"
    }
   ],
   "source": [
    "def repeat_to_length(string_to_expand, length):\n",
    "    return (string_to_expand * (int(length/len(string_to_expand))+1))[:length]\n",
    "\n",
    "class Solution(object):\n",
    "    def largestNumber(self, nums):\n",
    "        str_nums = list(map(str, nums))\n",
    "        maxlen = max(map(len, str_nums))\n",
    "\n",
    "        result = ''.join(sorted(str_nums, key=lambda s: repeat_to_length(s, maxlen*2), reverse=True))\n",
    "        return '0' if result[0] == '0' else result\n",
    "    \n",
    "nums = [1, 2, 333, 8, 234, 5923, 7, 49]\n",
    "\n",
    "Solution().largestNumber(nums)"
   ]
  },
  {
   "cell_type": "markdown",
   "metadata": {},
   "source": [
    "### 參考文獻: \n",
    "\n",
    "淺談 Python 的排序\n",
    "\n",
    "https://marco79423.net/articles/%E6%B7%BA%E8%AB%87-python-%E7%9A%84%E6%8E%92%E5%BA%8F/\n",
    "\n",
    "\n",
    "Python 3.6 文檔: 多鍵值、不同順序的複雜排序\n",
    "https://docs.python.org/zh-cn/3.6/howto/sorting.html\n"
   ]
  }
 ],
 "metadata": {
  "kernelspec": {
   "display_name": "Python 3",
   "language": "python",
   "name": "python3"
  },
  "language_info": {
   "codemirror_mode": {
    "name": "ipython",
    "version": 3
   },
   "file_extension": ".py",
   "mimetype": "text/x-python",
   "name": "python",
   "nbconvert_exporter": "python",
   "pygments_lexer": "ipython3",
   "version": "3.6.5"
  }
 },
 "nbformat": 4,
 "nbformat_minor": 2
}
