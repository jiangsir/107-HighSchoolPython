{
 "cells": [
  {
   "cell_type": "markdown",
   "metadata": {},
   "source": [
    "## 串列的排序"
   ]
  },
  {
   "cell_type": "code",
   "execution_count": 9,
   "metadata": {},
   "outputs": [
    {
     "name": "stdout",
     "output_type": "stream",
     "text": [
      "['Marry', 'Tom', 'John', 'C', 'E', 'D']\n",
      "['C', 'D', 'E', 'John', 'Marry', 'Tom']\n",
      "['Marry', 'Tom', 'John', 'C', 'E', 'D']\n",
      "['C', 'D', 'E', 'John', 'Marry', 'Tom']\n",
      "[1, 2, 3, 3, 4, 23, 98]\n",
      "[98, 23, 4, 3, 3, 2, 1]\n"
     ]
    }
   ],
   "source": [
    "\n",
    "wlist = ['Marry','Tom','John','C','E','D']\n",
    "print(wlist)\n",
    "print(sorted(wlist))\n",
    "print(wlist)\n",
    "\n",
    "wlist = sorted(wlist) # 排序 字典序\n",
    "print(wlist)\n",
    "\n",
    "nlist = [4,23,1,3,2,98,3]\n",
    "print(sorted(nlist)) # 排序\n",
    "print(sorted(nlist, reverse=True)) # 反向排序\n"
   ]
  },
  {
   "cell_type": "code",
   "execution_count": 16,
   "metadata": {},
   "outputs": [],
   "source": [
    "from random import randint\n",
    "randoms = [randint(0, 9) for i in range(10)]\n",
    "\n"
   ]
  },
  {
   "cell_type": "markdown",
   "metadata": {},
   "source": [
    "randoms.sort()\n",
    "\n",
    "sorted()\n"
   ]
  },
  {
   "cell_type": "markdown",
   "metadata": {},
   "source": [
    "# 自訂排序\n",
    "\n",
    "標準排序是用標準的字典排序法，但如果需要特殊排序原則，則需要自訂排序。比如: 有一批英文單字，想要依單字長度進行排序。"
   ]
  },
  {
   "cell_type": "markdown",
   "metadata": {},
   "source": [
    "## 用 key 指定排序函數"
   ]
  },
  {
   "cell_type": "code",
   "execution_count": 4,
   "metadata": {},
   "outputs": [
    {
     "name": "stdout",
     "output_type": "stream",
     "text": [
      "['hi', 'book', 'hello', 'apple']\n",
      "['hi', 'book', 'apple', 'hello']\n"
     ]
    }
   ],
   "source": [
    "# 用單字長度進行排序\n",
    "\n",
    "words = ['hello', 'hi', 'book', 'apple']\n",
    "def sort_key(word):\n",
    "    return len(word)\n",
    "words.sort(key=sort_key)\n",
    "print(words)\n",
    "\n",
    "# 長度相同的，就是原始順序\n",
    "words = ['apple', 'hello', 'hi', 'book']\n",
    "def sort_key(word):\n",
    "    return len(word)\n",
    "words.sort(key=sort_key)\n",
    "print(words)"
   ]
  },
  {
   "cell_type": "markdown",
   "metadata": {},
   "source": [
    "## 對 dict 的 value 排序"
   ]
  },
  {
   "cell_type": "code",
   "execution_count": 14,
   "metadata": {},
   "outputs": [
    {
     "name": "stdout",
     "output_type": "stream",
     "text": [
      "[('sophie', 8), ('phil', 10), ('tommy', 17)]\n"
     ]
    }
   ],
   "source": [
    "d = {'phil': 10, 'tommy':17, 'sophie': 8}\n",
    "\n",
    "def sorted_key(item):\n",
    "    return item[1]\n",
    "\n",
    "print(sorted(d.items(), key=sorted_key))"
   ]
  },
  {
   "cell_type": "code",
   "execution_count": 14,
   "metadata": {},
   "outputs": [
    {
     "name": "stdout",
     "output_type": "stream",
     "text": [
      "['ababa', 'bbaa', 'cbaba']\n"
     ]
    }
   ],
   "source": [
    "my_alphabet = ['a', 'b', 'c'] \n",
    "def custom_key(word):\n",
    "    numbers = [] \n",
    "    for letter in word: \n",
    "        numbers.append(my_alphabet.index(letter)) \n",
    "        return numbers # python中的整数列表能够比较大小 \n",
    "    # custom_key('cbaba')==[2, 1, 0, 1, 0] \n",
    "\n",
    "x=['cbaba', 'ababa', 'bbaa'] \n",
    "x.sort(key=custom_key)\n",
    "\n",
    "print(x)\n"
   ]
  },
  {
   "cell_type": "code",
   "execution_count": 15,
   "metadata": {},
   "outputs": [
    {
     "data": {
      "text/plain": [
       "[('dave', 'B', 10), ('jane', 'B', 12), ('john', 'A', 15)]"
      ]
     },
     "execution_count": 15,
     "metadata": {},
     "output_type": "execute_result"
    }
   ],
   "source": [
    "students = [('john', 'A', 15), ('jane', 'B', 12), ('dave','B', 10)]\n",
    "sorted(students,key=lambda x: x[2]) #按照年龄来排序\n"
   ]
  },
  {
   "cell_type": "markdown",
   "metadata": {},
   "source": [
    "# 用 key 指定排序函數"
   ]
  },
  {
   "cell_type": "code",
   "execution_count": 14,
   "metadata": {},
   "outputs": [
    {
     "name": "stdout",
     "output_type": "stream",
     "text": [
      "['ababa', 'bbaa', 'cbaba']\n"
     ]
    }
   ],
   "source": [
    "my_alphabet = ['a', 'b', 'c'] \n",
    "def custom_key(word):\n",
    "    numbers = [] \n",
    "    for letter in word: \n",
    "        numbers.append(my_alphabet.index(letter)) \n",
    "        return numbers # python中的整数列表能够比较大小 \n",
    "    # custom_key('cbaba')==[2, 1, 0, 1, 0] \n",
    "\n",
    "x=['cbaba', 'ababa', 'bbaa'] \n",
    "x.sort(key=custom_key)\n",
    "\n",
    "print(x)\n"
   ]
  },
  {
   "cell_type": "code",
   "execution_count": 15,
   "metadata": {},
   "outputs": [
    {
     "data": {
      "text/plain": [
       "[('dave', 'B', 10), ('jane', 'B', 12), ('john', 'A', 15)]"
      ]
     },
     "execution_count": 15,
     "metadata": {},
     "output_type": "execute_result"
    }
   ],
   "source": [
    "students = [('john', 'A', 15), ('jane', 'B', 12), ('dave','B', 10)]\n",
    "sorted(students,key=lambda x: x[2]) #按照年龄来排序\n"
   ]
  },
  {
   "cell_type": "markdown",
   "metadata": {},
   "source": [
    "# 使用 cmp 進行排序\n",
    "\n",
    "### 雖然 python3 的 sorted 取消了 cmp 參數，但有些動作用 cmp 做還是比較方便。\n",
    "### 因此仍有機會使用 cmp"
   ]
  },
  {
   "cell_type": "code",
   "execution_count": 7,
   "metadata": {},
   "outputs": [
    {
     "ename": "NameError",
     "evalue": "name 'functools' is not defined",
     "output_type": "error",
     "traceback": [
      "\u001b[1;31m---------------------------------------------------------------------------\u001b[0m",
      "\u001b[1;31mNameError\u001b[0m                                 Traceback (most recent call last)",
      "\u001b[1;32m<ipython-input-7-47a822d8e0ea>\u001b[0m in \u001b[0;36m<module>\u001b[1;34m()\u001b[0m\n\u001b[0;32m      3\u001b[0m \u001b[0mss\u001b[0m \u001b[1;33m=\u001b[0m \u001b[1;33m[\u001b[0m\u001b[1;36m1\u001b[0m\u001b[1;33m,\u001b[0m \u001b[1;36m2\u001b[0m\u001b[1;33m,\u001b[0m \u001b[1;36m333\u001b[0m\u001b[1;33m,\u001b[0m \u001b[1;36m8\u001b[0m\u001b[1;33m,\u001b[0m \u001b[1;36m234\u001b[0m\u001b[1;33m,\u001b[0m \u001b[1;36m5923\u001b[0m\u001b[1;33m,\u001b[0m \u001b[1;36m7\u001b[0m\u001b[1;33m,\u001b[0m \u001b[1;36m49\u001b[0m\u001b[1;33m]\u001b[0m\u001b[1;33m\u001b[0m\u001b[0m\n\u001b[0;32m      4\u001b[0m \u001b[1;33m\u001b[0m\u001b[0m\n\u001b[1;32m----> 5\u001b[1;33m \u001b[0msss\u001b[0m \u001b[1;33m=\u001b[0m \u001b[0msorted\u001b[0m\u001b[1;33m(\u001b[0m\u001b[0mss\u001b[0m\u001b[1;33m,\u001b[0m \u001b[0mkey\u001b[0m\u001b[1;33m=\u001b[0m\u001b[0mfunctools\u001b[0m\u001b[1;33m.\u001b[0m\u001b[0mcmp_to_key\u001b[0m\u001b[1;33m(\u001b[0m\u001b[1;32mlambda\u001b[0m \u001b[0ma\u001b[0m\u001b[1;33m,\u001b[0m\u001b[0mb\u001b[0m\u001b[1;33m:\u001b[0m \u001b[0mint\u001b[0m\u001b[1;33m(\u001b[0m\u001b[0mstr\u001b[0m\u001b[1;33m(\u001b[0m\u001b[0ma\u001b[0m\u001b[1;33m)\u001b[0m\u001b[1;33m+\u001b[0m\u001b[0mstr\u001b[0m\u001b[1;33m(\u001b[0m\u001b[0mb\u001b[0m\u001b[1;33m)\u001b[0m\u001b[1;33m)\u001b[0m\u001b[1;33m-\u001b[0m\u001b[0mint\u001b[0m\u001b[1;33m(\u001b[0m\u001b[0mstr\u001b[0m\u001b[1;33m(\u001b[0m\u001b[0mb\u001b[0m\u001b[1;33m)\u001b[0m\u001b[1;33m+\u001b[0m\u001b[0mstr\u001b[0m\u001b[1;33m(\u001b[0m\u001b[0ma\u001b[0m\u001b[1;33m)\u001b[0m\u001b[1;33m)\u001b[0m\u001b[1;33m)\u001b[0m\u001b[1;33m,\u001b[0m \u001b[0mreverse\u001b[0m\u001b[1;33m=\u001b[0m\u001b[1;32mTrue\u001b[0m\u001b[1;33m)\u001b[0m\u001b[1;33m\u001b[0m\u001b[0m\n\u001b[0m\u001b[0;32m      6\u001b[0m \u001b[1;33m\u001b[0m\u001b[0m\n\u001b[0;32m      7\u001b[0m \u001b[0mprint\u001b[0m\u001b[1;33m(\u001b[0m\u001b[0msss\u001b[0m\u001b[1;33m)\u001b[0m\u001b[1;33m\u001b[0m\u001b[0m\n",
      "\u001b[1;31mNameError\u001b[0m: name 'functools' is not defined"
     ]
    }
   ],
   "source": [
    "from functools import cmp_to_key\n",
    "\n",
    "ss = [1, 2, 333, 8, 234, 5923, 7, 49]\n",
    "\n",
    "sss = sorted(ss, key=functools.cmp_to_key(lambda a,b: int(str(a)+str(b))-int(str(b)+str(a))), reverse=True)\n",
    "\n",
    "print(sss)\n",
    "\n",
    "\n",
    "print(''.join(map(str,sss)))\n",
    "\n"
   ]
  }
 ],
 "metadata": {
  "kernelspec": {
   "display_name": "Python 3",
   "language": "python",
   "name": "python3"
  },
  "language_info": {
   "codemirror_mode": {
    "name": "ipython",
    "version": 3
   },
   "file_extension": ".py",
   "mimetype": "text/x-python",
   "name": "python",
   "nbconvert_exporter": "python",
   "pygments_lexer": "ipython3",
   "version": "3.6.5"
  }
 },
 "nbformat": 4,
 "nbformat_minor": 2
}
