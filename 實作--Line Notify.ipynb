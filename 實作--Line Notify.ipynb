{
 "cells": [
  {
   "cell_type": "markdown",
   "metadata": {},
   "source": [
    "## Line Notify\n",
    "\n",
    "### 到設定網址  https://notify-bot.line.me/zh_TW/  進行登入\n",
    "\n",
    "![1](images/line1.jpg)\n",
    "![2](images/line2.jpg)\n",
    "![3](images/line3.jpg)\n",
    "\n",
    "\n",
    "\n",
    "最後獲得一個 token\n",
    "        \n",
    "        token: ukXxSRM1TIZd9hRx1CGSVAjOoJhqA6VtXrhtSp09LHL"
   ]
  },
  {
   "cell_type": "code",
   "execution_count": 1,
   "metadata": {},
   "outputs": [
    {
     "name": "stdout",
     "output_type": "stream",
     "text": [
      "Requirement already satisfied: requests in c:\\users\\jiangsir\\anaconda3\\lib\\site-packages (2.17.1)\n",
      "Requirement already satisfied: certifi>=2017.4.17 in c:\\users\\jiangsir\\anaconda3\\lib\\site-packages (from requests) (2018.4.16)\n",
      "Requirement already satisfied: chardet<3.1.0,>=3.0.2 in c:\\users\\jiangsir\\anaconda3\\lib\\site-packages (from requests) (3.0.4)\n",
      "Requirement already satisfied: idna<2.6,>=2.5 in c:\\users\\jiangsir\\anaconda3\\lib\\site-packages (from requests) (2.5)\n",
      "Requirement already satisfied: urllib3<1.22,>=1.21.1 in c:\\users\\jiangsir\\anaconda3\\lib\\site-packages (from requests) (1.21.1)\n"
     ]
    },
    {
     "name": "stderr",
     "output_type": "stream",
     "text": [
      "You are using pip version 19.0.3, however version 19.1.1 is available.\n",
      "You should consider upgrading via the 'python -m pip install --upgrade pip' command.\n"
     ]
    }
   ],
   "source": [
    "!pip install requests"
   ]
  },
  {
   "cell_type": "code",
   "execution_count": 3,
   "metadata": {},
   "outputs": [
    {
     "data": {
      "text/plain": [
       "<Response [200]>"
      ]
     },
     "execution_count": 3,
     "metadata": {},
     "output_type": "execute_result"
    }
   ],
   "source": [
    "import requests\n",
    "\n",
    "token = 'ukXxSRM1TIZd9hRx1CGSVAjOoJhqA6VtXrhtSp09LHL' # LINE 個人\n",
    "url = \"https://notify-api.line.me/api/notify\"\n",
    "headers = {\n",
    "    \"Authorization\": \"Bearer \" + token, \n",
    "    \"Content-Type\" : \"application/x-www-form-urlencoded\"\n",
    "}\n",
    "\n",
    "msg = 'LINE 訊息測試中'\n",
    "payload = {'message': msg}\n",
    "r = requests.post(url, headers = headers, params = payload)\n",
    "r"
   ]
  },
  {
   "cell_type": "code",
   "execution_count": 4,
   "metadata": {},
   "outputs": [
    {
     "data": {
      "text/plain": [
       "<Response [200]>"
      ]
     },
     "execution_count": 4,
     "metadata": {},
     "output_type": "execute_result"
    }
   ],
   "source": [
    "import requests, time\n",
    "\n",
    "token = 'ukXxSRM1TIZd9hRx1CGSVAjOoJhqA6VtXrhtSp09LHL' # LINE 個人\n",
    "\n",
    "url = \"https://notify-api.line.me/api/notify\"\n",
    "headers = {\n",
    "    \"Authorization\": \"Bearer \" + token, \n",
    "    \"Content-Type\" : \"application/x-www-form-urlencoded\"\n",
    "}\n",
    "\n",
    "msg = '自動報時: ' + time.strftime(\"%Y-%m-%d %H:%M:%S\", time.localtime())\n",
    "\n",
    "payload = {'message': msg}\n",
    "r = requests.post(url, headers = headers, params = payload)\n",
    "r"
   ]
  },
  {
   "cell_type": "markdown",
   "metadata": {},
   "source": [
    "## 表情符號\n",
    "\n",
    "參考文件:  \n",
    "https://devdocs.line.me/files/sticker_list.pdf"
   ]
  },
  {
   "cell_type": "code",
   "execution_count": 5,
   "metadata": {},
   "outputs": [
    {
     "data": {
      "text/plain": [
       "<Response [200]>"
      ]
     },
     "execution_count": 5,
     "metadata": {},
     "output_type": "execute_result"
    }
   ],
   "source": [
    "import requests\n",
    "\n",
    "token = 'ukXxSRM1TIZd9hRx1CGSVAjOoJhqA6VtXrhtSp09LHL'\n",
    "msg = '實驗表情符號'\n",
    "stickerPackageId = 2\n",
    "stickerId = 38\n",
    "\n",
    "url = \"https://notify-api.line.me/api/notify\"\n",
    "headers = {\n",
    "    \"Authorization\": \"Bearer \" + token, \n",
    "    \"Content-Type\" : \"application/x-www-form-urlencoded\"\n",
    "}\n",
    "\n",
    "payload = {\"message\": msg, \"stickerPackageId\": stickerPackageId, 'stickerId': stickerId}\n",
    "r = requests.post(url, headers = headers, params = payload)\n",
    "\n",
    "r"
   ]
  }
 ],
 "metadata": {
  "kernelspec": {
   "display_name": "Python 3",
   "language": "python",
   "name": "python3"
  },
  "language_info": {
   "codemirror_mode": {
    "name": "ipython",
    "version": 3
   },
   "file_extension": ".py",
   "mimetype": "text/x-python",
   "name": "python",
   "nbconvert_exporter": "python",
   "pygments_lexer": "ipython3",
   "version": "3.6.5"
  }
 },
 "nbformat": 4,
 "nbformat_minor": 2
}
