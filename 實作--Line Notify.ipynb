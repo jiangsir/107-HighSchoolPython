{
 "cells": [
  {
   "cell_type": "markdown",
   "metadata": {},
   "source": [
    "## Line Notify\n",
    "\n",
    "### 到設定網址  https://notify-bot.line.me/zh_TW/  進行登入\n",
    "\n",
    "![1](images/line1.jpg)\n",
    "![2](images/line2.jpg)\n",
    "![3](images/line3.jpg)\n",
    "\n",
    "\n",
    "\n",
    "最後獲得一個 token\n",
    "        \n",
    "        token: ukXxSRM1TIZd9hRx1CGSVAjOoJhqA6VtXrhtSp09LHL"
   ]
  },
  {
   "cell_type": "code",
   "execution_count": null,
   "metadata": {},
   "outputs": [],
   "source": [
    "!pip install requests\n",
    "\n",
    "# 使用 IDLE 的同學，請在電腦的\"命令提示字元\" 執行 cmd 也可以\n",
    "\n",
    "#執行 \"pip install requests\"\n"
   ]
  },
  {
   "cell_type": "markdown",
   "metadata": {},
   "source": [
    "# 傳 LINE 訊息"
   ]
  },
  {
   "cell_type": "code",
   "execution_count": null,
   "metadata": {},
   "outputs": [],
   "source": [
    "import requests\n",
    "\n",
    "token = 'ukXxSRM1TIZd9hRx1CGSVAjOoJhqA6VtXrhtSp09LHL' # LINE 個人\n",
    "url = \"https://notify-api.line.me/api/notify\"\n",
    "headers = {\n",
    "    \"Authorization\": \"Bearer \" + token, \n",
    "    \"Content-Type\" : \"application/x-www-form-urlencoded\"\n",
    "}\n",
    "msg = 'kkkkkkkkhkhjguihj'\n",
    "payload = {'message': msg}\n",
    "r = requests.post(url, headers = headers, params = payload)\n",
    "print(r)"
   ]
  },
  {
   "cell_type": "markdown",
   "metadata": {},
   "source": [
    "# 報時"
   ]
  },
  {
   "cell_type": "code",
   "execution_count": null,
   "metadata": {},
   "outputs": [],
   "source": [
    "import requests, time\n",
    "\n",
    "token = 'ukXxSRM1TIZd9hRx1CGSVAjOoJhqA6VtXrhtSp09LHL' # LINE 個人\n",
    "\n",
    "url = \"https://notify-api.line.me/api/notify\"\n",
    "headers = {\n",
    "    \"Authorization\": \"Bearer \" + token, \n",
    "    \"Content-Type\" : \"application/x-www-form-urlencoded\"\n",
    "}\n",
    "\n",
    "msg = '自動報時: ' + time.strftime(\"%Y-%m-%d %H:%M:%S\", time.localtime())\n",
    "\n",
    "payload = {'message': msg}\n",
    "r = requests.post(url, headers = headers, params = payload)\n",
    "r"
   ]
  },
  {
   "cell_type": "markdown",
   "metadata": {},
   "source": [
    "## 表情符號\n",
    "\n",
    "表情符號編號參考文件:  \n",
    "https://devdocs.line.me/files/sticker_list.pdf"
   ]
  },
  {
   "cell_type": "code",
   "execution_count": null,
   "metadata": {},
   "outputs": [],
   "source": [
    "import requests\n",
    "\n",
    "token = 'ukXxSRM1TIZd9hRx1CGSVAjOoJhqA6VtXrhtSp09LHL'\n",
    "\n",
    "url = \"https://notify-api.line.me/api/notify\"\n",
    "headers = {\n",
    "    \"Authorization\": \"Bearer \" + token, \n",
    "    \"Content-Type\" : \"application/x-www-form-urlencoded\"\n",
    "}\n",
    "\n",
    "STKPKGID = 1 # STKPKGID\n",
    "STKID = 2  # STKID\n",
    "for STKID in range(1, 120):\n",
    "    msg = '實驗表情符號({}, {})'.format(STKPKGID, STKID)\n",
    "    #payload = {\"message\": msg, \"stickerPackageId\": STKPKGID, 'stickerId': STKID}\n",
    "    payload = {\"message\": msg, \"stickerPackageId\": STKPKGID, 'stickerId': STKID}\n",
    "    r = requests.post(url, headers = headers, params = payload)\n",
    "    print(msg, r)"
   ]
  },
  {
   "cell_type": "markdown",
   "metadata": {},
   "source": [
    "# 傳遞罐頭訊息"
   ]
  },
  {
   "cell_type": "code",
   "execution_count": null,
   "metadata": {},
   "outputs": [],
   "source": [
    "import requests, time\n",
    "\n",
    "token = 'ukXxSRM1TIZd9hRx1CGSVAjOoJhqA6VtXrhtSp09LHL' # LINE 個人\n",
    "url = \"https://notify-api.line.me/api/notify\"\n",
    "headers = {\n",
    "    \"Authorization\": \"Bearer \" + token, \n",
    "    \"Content-Type\" : \"application/x-www-form-urlencoded\"\n",
    "}\n",
    "\n",
    "messages = ['訊息1', '訊息2', '訊息3', '訊息4', '訊息5', '訊息6', '訊息7', '訊息8']\n",
    "for message in messages:\n",
    "    payload = {'message': message}\n",
    "    r = requests.post(url, headers = headers, params = payload)\n",
    "    print(message, r)\n",
    "    time.sleep(5) # 每間隔 5 秒送一個訊息"
   ]
  },
  {
   "cell_type": "markdown",
   "metadata": {},
   "source": [
    "# 從檔案讀取訊息"
   ]
  },
  {
   "cell_type": "code",
   "execution_count": null,
   "metadata": {},
   "outputs": [],
   "source": [
    "import requests\n",
    "\n",
    "token = 'ukXxSRM1TIZd9hRx1CGSVAjOoJhqA6VtXrhtSp09LHL' # LINE 個人\n",
    "url = \"https://notify-api.line.me/api/notify\"\n",
    "headers = {\n",
    "    \"Authorization\": \"Bearer \" + token, \n",
    "    \"Content-Type\" : \"application/x-www-form-urlencoded\"\n",
    "}\n",
    "\n",
    "with open(\"data\\\\檔案訊息.txt\", encoding=\"UTF-8\") as fp:\n",
    "    for message in fp.readlines():\n",
    "        payload = {'message': message.strip()}\n",
    "        r = requests.post(url, headers = headers, params = payload)\n",
    "        print(message, r)\n"
   ]
  },
  {
   "cell_type": "markdown",
   "metadata": {},
   "source": [
    "# 傳遞圖片"
   ]
  },
  {
   "cell_type": "code",
   "execution_count": null,
   "metadata": {},
   "outputs": [],
   "source": [
    "import requests\n",
    "def SendMessageToLineNotify(message, picurl):\n",
    "    Token = \"ukXxSRM1TIZd9hRx1CGSVAjOoJhqA6VtXrhtSp09LHL\"\n",
    "    url = \"https://notify-api.line.me/api/notify\"    \n",
    "    payload = {'message':message,\n",
    "               'imageThumbnail':picurl,\n",
    "               'imageFullsize':picurl,\n",
    "               #'stickerPackageId':1,\n",
    "               #'stickerId':106\n",
    "              }\n",
    "    header = {'Content-Type':'application/x-www-form-urlencoded',\n",
    "              'Authorization':'Bearer ' + Token\n",
    "             }\n",
    "    resp=requests.post(url, headers=header, data=payload)\n",
    "    print(resp.text)\n",
    "\n",
    "message = '圖片'\n",
    "picurl = 'https://stickershop.line-scdn.net/stickershop/v1/product/3577116/LINEStorePC/main.png'\n",
    "SendMessageToLineNotify(message, picurl)"
   ]
  }
 ],
 "metadata": {
  "kernelspec": {
   "display_name": "Python 3",
   "language": "python",
   "name": "python3"
  },
  "language_info": {
   "codemirror_mode": {
    "name": "ipython",
    "version": 3
   },
   "file_extension": ".py",
   "mimetype": "text/x-python",
   "name": "python",
   "nbconvert_exporter": "python",
   "pygments_lexer": "ipython3",
   "version": "3.6.5"
  }
 },
 "nbformat": 4,
 "nbformat_minor": 2
}
