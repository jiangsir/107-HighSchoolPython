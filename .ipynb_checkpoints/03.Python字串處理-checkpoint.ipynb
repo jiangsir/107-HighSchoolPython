{
 "cells": [
  {
   "cell_type": "markdown",
   "metadata": {
    "slideshow": {
     "slide_type": "slide"
    }
   },
   "source": [
    "## 字串: 取得子字串\n",
    "\n",
    "Python 字串編號圖示：\n",
    "\n",
    "![Alt text](images/substring.png)\n",
    "\n",
    "\n",
    "幾個子字串常見的寫法： \n",
    "* :冒號前的 INDEX 省略代表從 0 開始。\n",
    "* :冒號後的 INDEX 省略代表直到最後一個字元。\n",
    "*        str[INDEX] 取得 INDEX 的字元  \n",
    "*        str[-INDEX] 取得倒數 INDEX 的字元  \n",
    "*    str[START:END] 從 START 到 END-1 的子字串  \n",
    "*    str[START:END:STEP] 從 START 到 END-1 每隔 STEP 的子字串  "
   ]
  },
  {
   "cell_type": "code",
   "execution_count": null,
   "metadata": {
    "slideshow": {
     "slide_type": "subslide"
    }
   },
   "outputs": [],
   "source": [
    "s = 'Hello Beauty'\n",
    "print(\"s[0]=\",s[0]) # 字串 s 的第 0 個字元，python 使用 0 based 索引\n",
    "print(\"s[6:12]=\",s[6:12]) # 6~11 的子字串 6<=index<12\n",
    "print(\"s[6:]=\",s[6:]) # 6~字串尾端 的子字串\n",
    "print(\"s[:6]=\",s[:6]) # 0～5 子字串\n",
    "print(\"s[6:-2]=\",s[6:-2]) # -6 代表倒數第6位\n",
    "print(\"s[-6:]=\",s[-6:]) # 取得最後 6 位\n",
    "print(\"s[:]=\", s[:])\n",
    "print(\"s[::2]=\",s[::2]) # 從 0 開始間隔 2 個字元\n",
    "print(\"s[0:6:2]=\",s[0:6:2]) # 0~5 間隔 2 個字元\n",
    "print(\"s[::-1]=\",s[::-1]) # 獲得一個倒反的字串"
   ]
  },
  {
   "cell_type": "markdown",
   "metadata": {
    "slideshow": {
     "slide_type": "slide"
    }
   },
   "source": [
    "## 格式化輸出\n",
    "\n",
    "### 方法 str.format() 的基本用法如下:\n",
    "\n"
   ]
  },
  {
   "cell_type": "code",
   "execution_count": null,
   "metadata": {
    "slideshow": {
     "slide_type": "subslide"
    }
   },
   "outputs": [],
   "source": [
    "print('We are the {} who say \"{}!\"'.format('knights', 'Ni'))\n",
    "print('{0} and {1}'.format('spam', 'eggs'))\n",
    "print('{1} and {0}'.format('spam', 'eggs'))\n",
    "\n",
    "import math\n",
    "print('The value of PI is approximately %5.3f.' % math.pi)\n",
    "print('The value of PI is approximately {:5.3f}.'.format(math.pi))\n",
    "\n",
    "# 可以直接呼叫關鍵字參數\n",
    "print('This {food} is {adjective}.'.format(food='spam', adjective='absolutely horrible'))\n",
    "# 位置參數和關鍵字參數可以隨意組合:\n",
    "print('The story of {0}, {1}, and {other}.'.format('Bill', 'Manfred', other='Georg'))"
   ]
  },
  {
   "cell_type": "markdown",
   "metadata": {
    "slideshow": {
     "slide_type": "subslide"
    }
   },
   "source": [
    "## 常見的格式化參數\n",
    "\n",
    "<table class=\"code\">\n",
    "<tbody><tr>\n",
    "<th> Number </th>\n",
    "<th> Format </th>\n",
    "<th> Output </th>\n",
    "<th> Description </th>\n",
    "</tr>\n",
    "<tr>\n",
    "<td> 3.1415926  </td>\n",
    "<td> {:.2f}  </td>\n",
    "<td> 3.14  </td>\n",
    "<td> 2 decimal places </td>\n",
    "</tr>\n",
    "<tr>\n",
    "<td> 3.1415926  </td>\n",
    "<td> {:+.2f} </td>\n",
    "<td> +3.14 </td>\n",
    "<td> 2 decimal places with sign </td>\n",
    "</tr>\n",
    "<tr>\n",
    "<td> -1         </td>\n",
    "<td> {:+.2f} </td>\n",
    "<td> -1.00 </td>\n",
    "<td> 2 decimal places with sign </td>\n",
    "</tr>\n",
    "<tr>\n",
    "<td> 2.71828    </td>\n",
    "<td> {:.0f}  </td>\n",
    "<td> 3   </td>\n",
    "<td> No decimal places </td>\n",
    "</tr>\n",
    "<tr>\n",
    "<td> 5          </td>\n",
    "<td> {:0&gt;2d} </td>\n",
    "<td> 05  </td>\n",
    "<td> Pad number with zeros (left padding, width 2) </td>\n",
    "</tr>\n",
    "<tr>\n",
    "<td> 5          </td>\n",
    "<td> {:x&lt;4d} </td>\n",
    "<td> 5xxx  </td>\n",
    "<td> Pad number with x’s (right padding, width 4) </td>\n",
    "</tr>\n",
    "<tr>\n",
    "<td> 10         </td>\n",
    "<td> {:x&lt;4d} </td>\n",
    "<td> 10xx  </td>\n",
    "<td> Pad number with x’s (right padding, width 4) </td>\n",
    "</tr>\n",
    "<tr>\n",
    "<td> 1000000    </td>\n",
    "<td> {:,}    </td>\n",
    "<td> 1,000,000  </td>\n",
    "<td> Number format with comma separator </td>\n",
    "</tr>\n",
    "<tr>\n",
    "<td> 0.25       </td>\n",
    "<td> {:.2%}  </td>\n",
    "<td> 25.00%  </td>\n",
    "<td> Format percentage </td>\n",
    "</tr>\n",
    "<tr>\n",
    "<td> 1000000000 </td>\n",
    "<td> {:.2e}  </td>\n",
    "<td> 1.00e+09 </td>\n",
    "<td> Exponent notation </td>\n",
    "</tr>\n",
    "<tr>\n",
    "<td> 13         </td>\n",
    "<td> {:10d}  </td>\n",
    "<td> &nbsp;&nbsp;&nbsp;&nbsp;&nbsp;&nbsp;&nbsp;&nbsp;13 </td>\n",
    "<td> Right aligned (default, width 10) </td>\n",
    "</tr>\n",
    "<tr>\n",
    "<td> 13         </td>\n",
    "<td> {:&lt;10d} </td>\n",
    "<td> 13 </td>\n",
    "<td> Left aligned (width 10) </td>\n",
    "</tr>\n",
    "<tr>\n",
    "<td> 13         </td>\n",
    "<td> {:^10d} </td>\n",
    "<td> &nbsp;&nbsp;&nbsp;&nbsp;13 </td>\n",
    "<td> Center aligned (width 10) </td>\n",
    "</tr>\n",
    "</tbody></table>"
   ]
  },
  {
   "cell_type": "markdown",
   "metadata": {},
   "source": [
    "## 字串函數\n"
   ]
  },
  {
   "cell_type": "code",
   "execution_count": null,
   "metadata": {},
   "outputs": [],
   "source": [
    "s = \"...Hello \" + \"Beauty \"*3 # 字串重複\n",
    "print(\"s=\"+s)\n",
    "print(s.find('B')) # 由左邊找起第一個找到的索引\n",
    "print(s.replace('Beauty', 'Ugly')) # 取代某個字串\n",
    "print(s.split()) # 字串分割 預設用 \" \" 分割\n",
    "print(s.split('B')) # 字串分割 用 \"B\" 分割\n",
    "print(s.upper())\n",
    "print(s.lower())\n",
    "print(','.join(s)) # 字串的每個字元間插入一個\n",
    "print(','.join(s.split())) # List 的每個元素中插入一個 ,\n",
    "print(s.count('Beauty')) # 計算字串出現的次數\n",
    "print(s.strip()) # 清除掉頭尾的空白字元\n",
    "print(\"strip: \",s.strip(',.-')) # 清除掉頭尾的字元\n",
    "\n",
    "# 字元與整數互換。透過 ASCII 表。\n",
    "# chr(97) ==》 A\n",
    "# ord(\"A\") ==》 97\n",
    "s = \"村上春樹\"\n",
    "s = s.replace(s[1:-1], \"O\"*len(s[1:-1]))\n",
    "print(s)\n",
    "#將姓名中間兩個子替換成相同個數的 O\n",
    "s = \"王大同\"\n",
    "s = s.replace(s[1], \"O\")\n",
    "print(s)\n"
   ]
  },
  {
   "cell_type": "code",
   "execution_count": null,
   "metadata": {},
   "outputs": [],
   "source": []
  }
 ],
 "metadata": {
  "kernelspec": {
   "display_name": "Python 3",
   "language": "python",
   "name": "python3"
  },
  "language_info": {
   "codemirror_mode": {
    "name": "ipython",
    "version": 3
   },
   "file_extension": ".py",
   "mimetype": "text/x-python",
   "name": "python",
   "nbconvert_exporter": "python",
   "pygments_lexer": "ipython3",
   "version": "3.6.5"
  }
 },
 "nbformat": 4,
 "nbformat_minor": 2
}
