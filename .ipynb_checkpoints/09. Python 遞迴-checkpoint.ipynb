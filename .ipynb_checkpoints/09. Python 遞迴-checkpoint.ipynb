{
 "cells": [
  {
   "cell_type": "markdown",
   "metadata": {},
   "source": [
    "# 遞迴練習\n",
    "\n",
    "遞迴的數學意義:\n",
    "\n",
    "### 高一下數學1-1C觀念01遞迴關係 : 影片\n",
    "\n",
    "[![高一下數學1-1C觀念01遞迴關係](https://img.youtube.com/vi/Z3reUEQWi28/0.jpg)](https://www.youtube.com/watch?v=Z3reUEQWi28)\n",
    "\n",
    "### 由遞迴式求出一般項\n",
    "\n",
    "[![高一下數學1-1C觀念05後項=r*前項+d之遞迴關係](https://img.youtube.com/vi/ie-yQJgHVsY/0.jpg)](https://www.youtube.com/watch?v=ie-yQJgHVsY)\n",
    "\n",
    "\n",
    "### 數學歸納法\n",
    "[![高一下數學1-1D觀念01為何需要數學歸納法](https://img.youtube.com/vi/Y3TYDVcRehA/0.jpg)](https://www.youtube.com/watch?v=Y3TYDVcRehA)\n",
    "\n",
    "\n",
    "* 連加、連乘\n",
    "* Fib\n",
    "* 平面圓形切割\n",
    "* 猶太敢死隊問題\n",
    "* 約瑟夫問題\n",
    "* 香檳塔 1, 2, 3\n",
    "* 堆磚塊問題\n",
    "* "
   ]
  },
  {
   "cell_type": "markdown",
   "metadata": {},
   "source": [
    "## 遞迴問題首先要思考不要落入無窮迴圈\n",
    "\n",
    "<img src=\"images/recursion.gif\" alt=\"drawing\" width=\"200\"/>\n",
    "\n",
    "必須明確定義好終止條件。\n",
    "\n",
    "<img src=\"images/doll.jpg\" alt=\"drawing\" width=\"780\"/>\n",
    "\n"
   ]
  },
  {
   "cell_type": "markdown",
   "metadata": {},
   "source": [
    "## 請計算以下 n 層香檳塔總共有幾個香檳杯?\n",
    "\n",
    "<img src=\"images/recursion_line.jpg\">\n",
    "\n",
    "\n",
    "\n",
    "    先寫出遞迴式:\n",
    "    sum(n) = 1 , n == 1\n",
    "    sum(n) = sum(n-1) + n, n > 1\n",
    " \n",
    " "
   ]
  },
  {
   "cell_type": "code",
   "execution_count": 3,
   "metadata": {},
   "outputs": [
    {
     "name": "stdout",
     "output_type": "stream",
     "text": [
      "55\n"
     ]
    }
   ],
   "source": [
    "def sum(n):\n",
    "    if n == 1:\n",
    "        return 1\n",
    "    else:\n",
    "        return sum(n-1) + n\n",
    "\n",
    "n = 10\n",
    "\n",
    "print(sum(10))"
   ]
  },
  {
   "cell_type": "markdown",
   "metadata": {},
   "source": [
    "## 請計算 三角錐形香檳塔的香檳杯總數\n",
    "\n",
    "<img src=\"images/recursion_triangle.jpg\">"
   ]
  },
  {
   "cell_type": "markdown",
   "metadata": {},
   "source": [
    "## 請計算金字塔型香檳塔的香檳杯總數\n",
    "\n",
    "<img src=\"images/recursion_square.jpg\">"
   ]
  },
  {
   "cell_type": "markdown",
   "metadata": {},
   "source": [
    "## 平面切割\n",
    "<div style=\"float: left; vertical-align:middle;\">\n",
    "<img src=\"images/recursion_cut1.png\" width=200 style=\"float: left;\"><img src=\"images/recursion_cut2.png\" width=200><img src=\"images/recursion_cut3.png\" width=200><img src=\"images/recursion_cut4.png\" width=200><img src=\"images/recursion_cut5.png\" width=200></div>"
   ]
  },
  {
   "cell_type": "markdown",
   "metadata": {},
   "source": [
    "## 遞迴暴搜"
   ]
  }
 ],
 "metadata": {
  "kernelspec": {
   "display_name": "Python 3",
   "language": "python",
   "name": "python3"
  },
  "language_info": {
   "codemirror_mode": {
    "name": "ipython",
    "version": 3
   },
   "file_extension": ".py",
   "mimetype": "text/x-python",
   "name": "python",
   "nbconvert_exporter": "python",
   "pygments_lexer": "ipython3",
   "version": "3.6.5"
  }
 },
 "nbformat": 4,
 "nbformat_minor": 2
}
