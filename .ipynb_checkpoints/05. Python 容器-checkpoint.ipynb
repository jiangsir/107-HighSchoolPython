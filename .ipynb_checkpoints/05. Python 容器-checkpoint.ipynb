{
 "cells": [
  {
   "cell_type": "markdown",
   "metadata": {},
   "source": [
    "## Python 容器\n",
    "\n",
    "### 容器就是一次可以管理一大堆變數的結構\n",
    "\n",
    "### Python 常用的容器型態： tuple、list、dict、set。\n",
    "\n",
    "依據它所使用的括號可以分成：\n",
    "\n",
    "* 小括號：tuple\n",
    "* 中括號：list\n",
    "* 大括號：dict, set\n",
    "\n",
    "\n",
    "\n",
    "### Python 的物件分成兩種\n",
    "\n",
    "Immutable Object：不可修改\n",
    "* numbers\n",
    "* booleans\n",
    "* strings\n",
    "* tuples\n",
    "* frozensets\n",
    "\n",
    "Mutable Object：可修改 \n",
    "* list\n",
    "* dict \n",
    "* set"
   ]
  },
  {
   "cell_type": "markdown",
   "metadata": {},
   "source": [
    "# Tuple () 小括號 -- 元組\n"
   ]
  },
  {
   "cell_type": "code",
   "execution_count": 2,
   "metadata": {},
   "outputs": [
    {
     "name": "stdout",
     "output_type": "stream",
     "text": [
      "(10, 12)\n",
      "<class 'tuple'>\n",
      "<class 'list'>\n",
      "[20, 11]\n"
     ]
    },
    {
     "ename": "TypeError",
     "evalue": "'tuple' object does not support item assignment",
     "output_type": "error",
     "traceback": [
      "\u001b[1;31m---------------------------------------------------------------------------\u001b[0m",
      "\u001b[1;31mTypeError\u001b[0m                                 Traceback (most recent call last)",
      "\u001b[1;32m<ipython-input-2-c1b38491469e>\u001b[0m in \u001b[0;36m<module>\u001b[1;34m()\u001b[0m\n\u001b[0;32m      8\u001b[0m \u001b[0mprint\u001b[0m\u001b[1;33m(\u001b[0m\u001b[0my\u001b[0m\u001b[1;33m)\u001b[0m\u001b[1;33m\u001b[0m\u001b[0m\n\u001b[0;32m      9\u001b[0m \u001b[1;33m\u001b[0m\u001b[0m\n\u001b[1;32m---> 10\u001b[1;33m \u001b[0mx\u001b[0m\u001b[1;33m[\u001b[0m\u001b[1;36m0\u001b[0m\u001b[1;33m]\u001b[0m \u001b[1;33m=\u001b[0m \u001b[1;36m15\u001b[0m  \u001b[1;31m#無法更改內容\u001b[0m\u001b[1;33m\u001b[0m\u001b[0m\n\u001b[0m",
      "\u001b[1;31mTypeError\u001b[0m: 'tuple' object does not support item assignment"
     ]
    }
   ],
   "source": [
    "x = (10,12) # 用小掛號設定 tuple\n",
    "print(x)\n",
    "x = (10,11)\n",
    "print(type(x))\n",
    "y = list(x) # 轉換成 list\n",
    "print(type(y))\n",
    "y[0] = 20 # list 就可以寫入了。\n",
    "print(y)\n",
    "\n",
    "x[0] = 15  #無法更改內容\n"
   ]
  },
  {
   "cell_type": "code",
   "execution_count": null,
   "metadata": {},
   "outputs": [],
   "source": [
    "# 元組的遍歷"
   ]
  },
  {
   "cell_type": "code",
   "execution_count": 6,
   "metadata": {},
   "outputs": [
    {
     "name": "stdout",
     "output_type": "stream",
     "text": [
      "27\n",
      "31\n"
     ]
    }
   ],
   "source": [
    "x = (10,12) # 用小掛號設定 tuple\n",
    "for a in x:\n",
    "    print(a*2+7)"
   ]
  },
  {
   "cell_type": "markdown",
   "metadata": {},
   "source": [
    "# list [] 中括號 -- 串列\n"
   ]
  },
  {
   "cell_type": "markdown",
   "metadata": {},
   "source": [
    "## 初始化"
   ]
  },
  {
   "cell_type": "code",
   "execution_count": 6,
   "metadata": {},
   "outputs": [
    {
     "name": "stdout",
     "output_type": "stream",
     "text": [
      "list1= []\n",
      "list1= ['X']\n",
      "list2[1]= B\n",
      "list2= ['A', 'B', 'C', 'D', 'E']\n",
      "list2= ['B', 'B', 'C', 'D', 'E']\n",
      "list3= [1, 2, 3, 4, 5]\n",
      "list3[1][4]= 5\n",
      "list4= [0, 0, 0, 0, 0, 0, 0, 0, 0, 0]\n"
     ]
    }
   ],
   "source": [
    "list1 = [] # 用中括號 設定一個空的 list\n",
    "print(\"list1=\", list1)\n",
    "list1.append('X')\n",
    "print(\"list1=\", list1)\n",
    "\n",
    "list2 = ['A','B','C','D','E'] # 手動列出所有 list 內的元素\n",
    "print(\"list2[1]=\", list2[1])\n",
    "print(\"list2=\", list2)\n",
    "list2[0] = 'B' # 把第一個元素設定為 'B'\n",
    "print(\"list2=\", list2)\n",
    "\n",
    "list3 = [['A','B','C','D','E'] , [1,2,3,4,5]] # 雙重 List 類似於二維陣列\n",
    "print(\"list3=\", list3[1])\n",
    "print(\"list3[1][4]=\", list3[1][4])\n",
    "\n",
    "# 初始化一個特定長度的 list 並且給定一個初始值\n",
    "list4 = [0] * 10\n",
    "print('list4=', list4)"
   ]
  },
  {
   "cell_type": "code",
   "execution_count": 1,
   "metadata": {},
   "outputs": [
    {
     "name": "stdout",
     "output_type": "stream",
     "text": [
      "['A', 'B', 'C', 'D', 'E', 'F']\n",
      "['A', 'B', 'C', 'D', 'E', 'F', [1, 2, 3]]\n",
      "['A', 'B', 'C', 'D', 'E', 'F', [1, 2, 3], 'G', 'H', 'I']\n",
      "['A', 'B', 'C', 'D', 'E', 'F', [1, 2, 3], 'G', 'H', 'I', 'J', 'K', 'L']\n"
     ]
    }
   ],
   "source": [
    "slist = ['A','B','C','D','E']\n",
    "slist.append('F') # 在最後增加單一個項目 => append\n",
    "print(slist)\n",
    "slist.append([1,2,3])  # 最後增加一個項目，這個項目本身是一個 list\n",
    "print(slist)\n",
    "slist.extend(['G','H','I']) #在最後\"串接\"一個串列 print(slist)\n",
    "print(slist)\n",
    "slist = slist + ['J', 'K', 'L'] #在最後\"串接\"一個串列 \n",
    "print(slist)\n"
   ]
  },
  {
   "cell_type": "code",
   "execution_count": 2,
   "metadata": {},
   "outputs": [
    {
     "name": "stdout",
     "output_type": "stream",
     "text": [
      "['A', '0', 'B', 'C', 'D', 'E', 'F', [1, 2, 3], 'G', 'H', 'I', 'J', 'K', 'L']\n",
      "['A', '0', 'B', ['3', '4'], 'C', 'D', 'E', 'F', [1, 2, 3], 'G', 'H', 'I', 'J', 'K', 'L']\n",
      "['A', '0', 'a', 'b', 'c']\n"
     ]
    }
   ],
   "source": [
    "slist.insert(1,'0')  #insert(位置,item) \n",
    "print(slist)\n",
    "slist.insert(3,['3', '4'])  #insert(位置,item) \n",
    "print(slist)\n",
    "slist[2:] = ['a', 'b', 'c'] # 在 slist 2:最後 取代 list\n",
    "print(slist)"
   ]
  },
  {
   "cell_type": "code",
   "execution_count": 4,
   "metadata": {},
   "outputs": [
    {
     "name": "stdout",
     "output_type": "stream",
     "text": [
      "['A', 'C', 'D', 'E']\n",
      "['A', 'E']\n",
      "E\n",
      "['A', 'B', 'C', 'D']\n",
      "1\n",
      "True\n",
      "False\n"
     ]
    }
   ],
   "source": [
    "slist = ['A','B','C','D','E']\n",
    "del slist[1] #刪除指定位置項目 => del\n",
    "print(slist)\n",
    "slist[1:3] = [] # 刪除 1~2 的項目\n",
    "print(slist)\n",
    "\n",
    "plist = ['A','B','C','D','E']\n",
    "print(plist.pop()) #預設移出刪除最後一項 = pop(-1) , 若pop(0)則是移出開頭項\n",
    "print(plist)\n",
    "print(plist.index('B'))  #找出項目值的位置 => index 只會找出第一個出現的位置\n",
    "\n",
    "clist = ['A','B','C','D','E']\n",
    "print('B' in clist) # 判斷項目是否存在於list中 => in\n",
    "print('F' in clist)"
   ]
  },
  {
   "cell_type": "markdown",
   "metadata": {},
   "source": [
    "## 串列的遍歷"
   ]
  },
  {
   "cell_type": "code",
   "execution_count": 3,
   "metadata": {},
   "outputs": [
    {
     "name": "stdout",
     "output_type": "stream",
     "text": [
      "0\n",
      "1\n",
      "2\n",
      "3\n",
      "4\n",
      "5\n",
      "6\n",
      "7\n",
      "8\n",
      "9\n"
     ]
    }
   ],
   "source": [
    "for i in range(10):\n",
    "    print(i)"
   ]
  },
  {
   "cell_type": "code",
   "execution_count": 2,
   "metadata": {},
   "outputs": [
    {
     "name": "stdout",
     "output_type": "stream",
     "text": [
      "1\n",
      "3\n",
      "5\n",
      "7\n",
      "9\n"
     ]
    }
   ],
   "source": [
    "for i in [1, 3, 5, 7, 9]:\n",
    "    print(i)"
   ]
  },
  {
   "cell_type": "code",
   "execution_count": 4,
   "metadata": {},
   "outputs": [
    {
     "name": "stdout",
     "output_type": "stream",
     "text": [
      "A\n",
      "B\n",
      "C\n",
      "D\n",
      "E\n"
     ]
    }
   ],
   "source": [
    "list2 = ['A','B','C','D','E'] # 手動列出所有 list 內的元素\n",
    "for item in list2:\n",
    "    print(item)"
   ]
  },
  {
   "cell_type": "markdown",
   "metadata": {},
   "source": [
    "## 串列的比較\n",
    "\n",
    "python 的串列有一個預設的比較方式，可以方便地進行比較。\n",
    "\n",
    "首先會比較第一個元素，第一個元素相同的話，就比較第二個元素。有元素會大於沒有元素。"
   ]
  },
  {
   "cell_type": "code",
   "execution_count": 4,
   "metadata": {},
   "outputs": [
    {
     "name": "stdout",
     "output_type": "stream",
     "text": [
      "[1, 2, 3] < [1, 3, 2]\n",
      "[1, 2] < [1, 2, 0]\n"
     ]
    }
   ],
   "source": [
    "def compare(l1, l2):\n",
    "    if l1 > l2:\n",
    "        print(l1,'>', l2)\n",
    "    elif l1 < l2:\n",
    "        print(l1,'<', l2)\n",
    "    else:\n",
    "        print(l1,'==', l2)\n",
    "        \n",
    "l1 = [1, 2, 3]\n",
    "l2 = [1, 3, 2]\n",
    "compare(l1, l2)\n",
    "\n",
    "l1 = [1, 2]\n",
    "l2 = [1, 2, 0]\n",
    "compare(l1, l2)\n"
   ]
  },
  {
   "cell_type": "markdown",
   "metadata": {},
   "source": [
    "## 串列的排序"
   ]
  },
  {
   "cell_type": "code",
   "execution_count": 9,
   "metadata": {},
   "outputs": [
    {
     "name": "stdout",
     "output_type": "stream",
     "text": [
      "['Marry', 'Tom', 'John', 'C', 'E', 'D']\n",
      "['C', 'D', 'E', 'John', 'Marry', 'Tom']\n",
      "['Marry', 'Tom', 'John', 'C', 'E', 'D']\n",
      "['C', 'D', 'E', 'John', 'Marry', 'Tom']\n",
      "[1, 2, 3, 3, 4, 23, 98]\n",
      "[98, 23, 4, 3, 3, 2, 1]\n"
     ]
    }
   ],
   "source": [
    "\n",
    "wlist = ['Marry','Tom','John','C','E','D']\n",
    "print(wlist)\n",
    "print(sorted(wlist))\n",
    "print(wlist)\n",
    "\n",
    "wlist = sorted(wlist) # 排序 字典序\n",
    "print(wlist)\n",
    "\n",
    "nlist = [4,23,1,3,2,98,3]\n",
    "print(sorted(nlist)) # 排序\n",
    "print(sorted(nlist, reverse=True)) # 反向排序\n"
   ]
  },
  {
   "cell_type": "code",
   "execution_count": 20,
   "metadata": {},
   "outputs": [
    {
     "name": "stdout",
     "output_type": "stream",
     "text": [
      "min= 1\n",
      "max= 98\n"
     ]
    }
   ],
   "source": [
    "nlist = [4,23,1,3,2,98,3]\n",
    "print('min=', min(nlist))\n",
    "print('max=', max(nlist))\n"
   ]
  },
  {
   "cell_type": "markdown",
   "metadata": {},
   "source": [
    "## 列表生成式\n",
    "\n",
    "Python 沒有陣列的概念，因此可以用 list 來模擬。\n",
    "\n",
    "基本語法如下:\n",
    "\n",
    "    [ 變數表達式 for 變數 in 表達式 if 過濾器]\n",
    "    \n",
    "工作原理:\n"
   ]
  },
  {
   "cell_type": "code",
   "execution_count": 16,
   "metadata": {},
   "outputs": [
    {
     "name": "stdout",
     "output_type": "stream",
     "text": [
      "[1, 2, 3, 4, 5, 6, 7, 8, 9, 10, 11, 12, 13, 14, 15, 16, 17, 18, 19, 20, 21, 22, 23, 24, 25, 26, 27, 28, 29, 30, 31, 32, 33, 34, 35, 36, 37, 38, 39, 40, 41, 42, 43, 44, 45, 46, 47, 48, 49, 50, 51, 52, 53, 54, 55, 56, 57, 58, 59, 60, 61, 62, 63, 64, 65, 66, 67, 68, 69, 70, 71, 72, 73, 74, 75, 76, 77, 78, 79, 80, 81, 82, 83, 84, 85, 86, 87, 88, 89, 90, 91, 92, 93, 94, 95, 96, 97, 98, 99]\n",
      "[1, 4, 9, 16, 25, 36, 49, 64, 81, 100, 121, 144, 169, 196, 225, 256, 289, 324, 361, 400, 441, 484, 529, 576, 625, 676, 729, 784, 841, 900, 961, 1024, 1089, 1156, 1225, 1296, 1369, 1444, 1521, 1600, 1681, 1764, 1849, 1936, 2025, 2116, 2209, 2304, 2401, 2500, 2601, 2704, 2809, 2916, 3025, 3136, 3249, 3364, 3481, 3600, 3721, 3844, 3969, 4096, 4225, 4356, 4489, 4624, 4761, 4900, 5041, 5184, 5329, 5476, 5625, 5776, 5929, 6084, 6241, 6400, 6561, 6724, 6889, 7056, 7225, 7396, 7569, 7744, 7921, 8100, 8281, 8464, 8649, 8836, 9025, 9216, 9409, 9604, 9801]\n",
      "[4, 16, 36, 64, 100]\n",
      "['A1', 'A2', 'A3', 'A4', 'B1', 'B2', 'B3', 'B4', 'C1', 'C2', 'C3', 'C4']\n",
      "['.git', '.ipynb_checkpoints', '00. 本課程使用方法.ipynb', '01. Python開發環境.ipynb', '02. Python基礎語法.ipynb', '03. Python 流程控制.ipynb', '04. Python字串處理.ipynb', '05. Python 容器.ipynb', '06. Python 自訂函數.ipynb', '07. Python 內置函數 .ipynb', '08. Python 遞迴.ipynb', '09. DP 動態規劃.ipynb', '10. 01背包問題.ipynb', '11. BFS DFS.ipynb', 'debugger', 'images', 'Python 上傳雲端硬碟.ipynb', 'Python 例外處理.ipynb', 'Python 函數式設計.ipynb', 'Python 呼叫系統程式.ipynb', 'Python 命令列程式開發.ipynb', 'Python 引入模組與套件.ipynb', 'Python 時間處理.ipynb', 'Python 檔案處理.ipynb', 'Python 檔案處裡.ipynb', 'Python 正規表達式.ipynb', 'Python 爬蟲 Scrapy.ipynb', 'Python 爬蟲.ipynb', 'Python 物件導向.ipynb', 'Python 裝飾器.ipynb', 'Python解題相關語法', 'README.md', '範例程式.ipynb']\n",
      "['Name=Ronaldo', 'Age=7', 'Class=First']\n"
     ]
    }
   ],
   "source": [
    "a = [x for x in range(1, 100) if x%3!=0]\n",
    "print(a)\n",
    "\n",
    "a = [x ** 2 for x in range(1, 100)]\n",
    "print(a)\n",
    "\n",
    "b = [x ** 2 for x in range(1, 11) if x % 2 == 0]\n",
    "print(b)\n",
    "\n",
    "c = [m + n for m in 'ABC' for n in '1234']\n",
    "print(c)\n",
    "\n",
    "import os\n",
    "d = [d for d in os.listdir('.')]\n",
    "print(d)\n",
    "\n",
    "d = {'Name': 'Ronaldo', 'Age': '7', 'Class': 'First'}\n",
    "L = [k + '=' + v for k, v in d.items()]\n",
    "print(L)\n"
   ]
  },
  {
   "cell_type": "markdown",
   "metadata": {},
   "source": [
    "## 隨機串列"
   ]
  },
  {
   "cell_type": "code",
   "execution_count": 5,
   "metadata": {},
   "outputs": [
    {
     "name": "stdout",
     "output_type": "stream",
     "text": [
      "[3, 2, 0, 2, 6, 7, 4, 2, 6, 1]\n",
      "[4, 7, 3, 8, 5, 9, 1, 10, 2, 6]\n",
      "[8]\n",
      "[7, 8, 9, 4]\n"
     ]
    }
   ],
   "source": [
    "from random import *\n",
    "\n",
    "# 創建一個隨機數列 (允許重複)\n",
    "items = [randint(0, 9) for i in range(10)]\n",
    "print(items)\n",
    "\n",
    "# 對一個 list 進行洗牌 (不會重複)\n",
    "items = [1, 2, 3, 4, 5, 6, 7, 8, 9, 10]\n",
    "shuffle(items)\n",
    "print(items)\n",
    "\n",
    "# 在 list 當中 隨機取出 n 個數字\n",
    "items = [1, 2, 3, 4, 5, 6, 7, 8, 9, 10]\n",
    "x = sample(items,  1)   # Pick a random item from the list\n",
    "print(x)\n",
    "\n",
    "y = sample(items, 4)    # Pick 4 random items from the list\n",
    "print(y)"
   ]
  },
  {
   "cell_type": "markdown",
   "metadata": {},
   "source": [
    "# dict {} 大括號 -- 字典"
   ]
  },
  {
   "cell_type": "code",
   "execution_count": 1,
   "metadata": {},
   "outputs": [
    {
     "name": "stdout",
     "output_type": "stream",
     "text": [
      "d['Name']:  Ronaldo\n",
      "d['Age']:  8\n",
      "d['School']:  高師大附中\n",
      "{'Name': 'Ronaldo', 'Age': 8, 'Class': 'First', 'School': '高師大附中'}\n"
     ]
    }
   ],
   "source": [
    "# 字典 d = {key1 : value1, key2 : value2 }\n",
    "# key 必須是唯一的，value 則不需要\n",
    "# value 可以是任意資料型態， key 則必須是不可變的，如 string, int , tuple\n",
    "\n",
    "d = {} # 建立一個空的 dict\n",
    "d = {1: 'Ronaldo', 3: 7, 5: 'First'}\n",
    "d = {'Name': 'Ronaldo', 'Age': 7, 'Class': 'First'}\n",
    "\n",
    "d['Age'] = 8;               # 更新 Age\n",
    "d['School'] = \"高師大附中\"  # 新增一個 key\n",
    "print (\"d['Name']: \", d['Name'])\n",
    "print (\"d['Age']: \", d['Age'])\n",
    "print (\"d['School']: \", d['School'])\n",
    "print(d)"
   ]
  },
  {
   "cell_type": "code",
   "execution_count": 2,
   "metadata": {},
   "outputs": [
    {
     "name": "stdout",
     "output_type": "stream",
     "text": [
      "{1: 'a', 2: 'b', 3: 'c'}\n",
      "<class 'dict'>\n",
      "d[2]= b\n",
      "{1: 'a', 2: 'b', 3: 'c', 4: 'd'}\n",
      "True\n",
      "False\n",
      "len(d)= 4\n"
     ]
    }
   ],
   "source": [
    "d = {1:\"a\", 2:\"b\", 3:\"c\"}\n",
    "print(d)\n",
    "print(type(d))\n",
    "print(\"d[2]=\", d[2])\n",
    "d[4] = \"d\"\n",
    "print(d)\n",
    "print(3 in d)\n",
    "print(3 not in d)\n",
    "print(\"len(d)=\", len(d))"
   ]
  },
  {
   "cell_type": "code",
   "execution_count": 3,
   "metadata": {},
   "outputs": [
    {
     "name": "stdout",
     "output_type": "stream",
     "text": [
      "{'Name': 'Ronaldo', 'Class': 'First', 'school': '高師大附中', 'addr': '凱旋路'}\n",
      "Ronaldo\n",
      "Ronaldo\n",
      "{'Class': 'First', 'school': '高師大附中', 'addr': '凱旋路'}\n"
     ]
    }
   ],
   "source": [
    "d = {'Name': 'Ronaldo', 'Age': 7, 'Class': 'First', 'school':'高師大附中', 'addr':'凱旋路'}\n",
    "del d['Age']\n",
    "print(d)\n",
    "print(d.get('Name'))\n",
    "print(d.pop('Name'))\n",
    "print(d)"
   ]
  },
  {
   "cell_type": "code",
   "execution_count": 4,
   "metadata": {},
   "outputs": [
    {
     "name": "stdout",
     "output_type": "stream",
     "text": [
      "l1= <class 'list'>\n",
      "l1= ['First', '高師大附中', '凱旋路']\n",
      "l2= <class 'list'>\n",
      "l2= ['Class', 'school', 'addr']\n",
      "sorted(d)= ['Class', 'addr', 'school']\n",
      "{1: 'a', 2: 56, 3: 'xxx', 5: 'zzz', 4: 'yyy'}\n"
     ]
    }
   ],
   "source": [
    "l1 = list(d.values()) # 將 values 轉成 list\n",
    "print(\"l1=\", type(l1))\n",
    "print(\"l1=\", l1)\n",
    "l2 = list(d.keys())  # 將 keys 轉成 list\n",
    "print(\"l2=\", type(l2))\n",
    "print(\"l2=\", l2)\n",
    "print(\"sorted(d)=\",sorted(d)) # 把 keys 變成一個 list 並排序\n",
    "\n",
    "# 合併兩個 dict\n",
    "d1= {1:\"a\", 2:56, 3:\"c\"}\n",
    "d2= {5:\"zzz\", 4:\"yyy\", 3:\"xxx\"}\n",
    "# print(d1+d2) # dict 合併不能使用 + \n",
    "d1.update(d2)\n",
    "print(d1)\n"
   ]
  },
  {
   "cell_type": "markdown",
   "metadata": {},
   "source": [
    "## 字典的遍歷"
   ]
  },
  {
   "cell_type": "code",
   "execution_count": 14,
   "metadata": {},
   "outputs": [
    {
     "name": "stdout",
     "output_type": "stream",
     "text": [
      "name\n",
      "gender\n",
      "weight\n",
      "name\n",
      "gender\n",
      "weight\n"
     ]
    }
   ],
   "source": [
    "# 遍歷字典的 KEY\n",
    "d = {'name': 'Denny', 'gender': 'M', 'weight': 69.8 }\n",
    "\n",
    "for key in d:\n",
    "    print(key)\n",
    "\n",
    "for key in d.keys():\n",
    "    print(key)"
   ]
  },
  {
   "cell_type": "code",
   "execution_count": 15,
   "metadata": {},
   "outputs": [
    {
     "name": "stdout",
     "output_type": "stream",
     "text": [
      "Denny\n",
      "M\n",
      "69.8\n"
     ]
    }
   ],
   "source": [
    "# 遍歷字典的 VALUES\n",
    "\n",
    "d = {'name': 'Denny', 'gender': 'M', 'weight': 69.8 }\n",
    "for v in d.values():\n",
    "    print(v)\n"
   ]
  },
  {
   "cell_type": "code",
   "execution_count": 16,
   "metadata": {},
   "outputs": [
    {
     "name": "stdout",
     "output_type": "stream",
     "text": [
      "name = Denny\n",
      "gender = M\n",
      "weight = 69.8\n"
     ]
    }
   ],
   "source": [
    "d = {'name': 'Denny', 'gender': 'M', 'weight': 69.8 }\n",
    "for k, v in d.items():\n",
    "    print(k, '=', v)\n"
   ]
  },
  {
   "cell_type": "markdown",
   "metadata": {},
   "source": [
    "# {} 容器 -- set \n",
    "\n",
    "這裡的 set 就是數學上的\"集合\", 集合內的元素不會重複。\n"
   ]
  },
  {
   "cell_type": "code",
   "execution_count": 10,
   "metadata": {},
   "outputs": [
    {
     "name": "stdout",
     "output_type": "stream",
     "text": [
      "<class 'set'>\n",
      "<class 'set'>\n"
     ]
    }
   ],
   "source": [
    "myset = set()\n",
    "print(type(myset))\n",
    "\n",
    "myset = {0} # 初始化一個值就可以判斷不是 dict 而是 set\n",
    "print(type(myset))"
   ]
  },
  {
   "cell_type": "code",
   "execution_count": 5,
   "metadata": {},
   "outputs": [
    {
     "name": "stdout",
     "output_type": "stream",
     "text": [
      "{'c', 'b', 'a', 'r', 'd'}\n",
      "{'b', 'r', 'd'}\n",
      "{'c', 'z', 'm', 'l', 'b', 'a', 'r', 'd'}\n",
      "{'c', 'a'}\n",
      "{'z', 'm', 'l', 'b', 'd', 'r'}\n"
     ]
    }
   ],
   "source": [
    "a = set('abracadabra')\n",
    "b = set('alacazam')\n",
    "print(a)\n",
    "\n",
    "# 集合a中包含而集合b中不包含的元素\n",
    "print(a - b) # 差集        \n",
    "print(a | b) # 聯集                             # 集合a或b中包含的所有元素\n",
    "print(a & b) # 交集                             # 集合a和b中都包含了的元素\n",
    "print(a ^ b) # 對稱差集                             # 不同时包含于a和b的元素\n"
   ]
  },
  {
   "cell_type": "markdown",
   "metadata": {},
   "source": [
    "### 進階的容器\n",
    "\n",
    "* defaultdict: 與 dict 類似, 只是不需要檢查 key 是否存在\n",
    "* counter: 自動統計每個值的出現次數\n",
    "* deque: 雙頭的 queue\n",
    "* namedtuple: 有 key 的 tuple\n",
    "* enum.Enum (包含在Python 3.4以上): 枚舉, 可以明確地表列所有允許的值"
   ]
  },
  {
   "cell_type": "markdown",
   "metadata": {},
   "source": [
    "## 容器的共通操作 iterable 物件"
   ]
  },
  {
   "cell_type": "code",
   "execution_count": null,
   "metadata": {},
   "outputs": [
    {
     "name": "stdout",
     "output_type": "stream",
     "text": [
      "x = A\n",
      "y = B\n",
      "z = C\n"
     ]
    }
   ],
   "source": [
    "d = {'x': 'A', 'y': 'B', 'z': 'C' }\n",
    "for k, v in d.items():\n",
    "    print(k, '=', v)  \n"
   ]
  },
  {
   "cell_type": "markdown",
   "metadata": {},
   "source": [
    "## 解包\n",
    "\n",
    "將容器內的元素一一解開並列出"
   ]
  },
  {
   "cell_type": "code",
   "execution_count": 5,
   "metadata": {},
   "outputs": [
    {
     "name": "stdout",
     "output_type": "stream",
     "text": [
      "['aa', 'bb', 'cc', 'dd']\n",
      "aa bb cc dd\n",
      "aa:bb:cc:dd\n",
      "{'key1': 'aa', 'key2': 'bb', 'key3': 'cc', 'key4': 'dd'}\n",
      "key1 key2 key3 key4\n",
      "key1:key2:key3:key4\n"
     ]
    }
   ],
   "source": [
    "ll = ['aa', 'bb', 'cc', 'dd']\n",
    "\n",
    "# 預設的顯示方式\n",
    "print(ll)\n",
    "\n",
    "# 解包預設用 空白隔開\n",
    "print(*ll)\n",
    "\n",
    "# 用 join 來顯示各元素\n",
    "print(':'.join(ll))\n",
    "\n",
    "\n",
    "dd = {'key1':'aa', 'key2':'bb', 'key3':'cc', 'key4':'dd'}\n",
    "\n",
    "# 預設的顯示方式\n",
    "print(dd)\n",
    "\n",
    "# 解包預設用 空白隔開\n",
    "print(*dd)\n",
    "\n",
    "# 用 join 來顯示各元素\n",
    "print(':'.join(dd))\n"
   ]
  },
  {
   "cell_type": "markdown",
   "metadata": {},
   "source": [
    "## 用 Counter 計算重複次數"
   ]
  },
  {
   "cell_type": "code",
   "execution_count": 11,
   "metadata": {},
   "outputs": [
    {
     "name": "stdout",
     "output_type": "stream",
     "text": [
      "[('eyes', 8), ('the', 5), ('look', 4)]\n"
     ]
    }
   ],
   "source": [
    "words = [\n",
    "    'look', 'into', 'my', 'eyes', 'look', 'into', 'my', 'eyes',\n",
    "    'the', 'eyes', 'the', 'eyes', 'the', 'eyes', 'not', 'around', 'the',\n",
    "    'eyes', \"don't\", 'look', 'around', 'the', 'eyes', 'look', 'into',\n",
    "    'my', 'eyes', \"you're\", 'under'\n",
    "]\n",
    "from collections import Counter\n",
    "word_counts = Counter(words)\n",
    "# 出现频率最高的3个单词\n",
    "top_three = word_counts.most_common(3)\n",
    "print(top_three)\n",
    "# Outputs [('eyes', 8), ('the', 5), ('look', 4)]"
   ]
  },
  {
   "cell_type": "markdown",
   "metadata": {},
   "source": [
    "## 計數的加減 聯集 差集"
   ]
  },
  {
   "cell_type": "code",
   "execution_count": 14,
   "metadata": {},
   "outputs": [
    {
     "name": "stdout",
     "output_type": "stream",
     "text": [
      "Counter({'eyes': 8, 'the': 5, 'look': 4, 'into': 3, 'my': 3, 'around': 2, 'not': 1, \"don't\": 1, \"you're\": 1, 'under': 1})\n",
      "Counter({'why': 1, 'are': 1, 'you': 1, 'not': 1, 'looking': 1, 'in': 1, 'my': 1, 'eyes': 1})\n",
      "Counter({'eyes': 9, 'the': 5, 'look': 4, 'my': 4, 'into': 3, 'not': 2, 'around': 2, \"don't\": 1, \"you're\": 1, 'under': 1, 'why': 1, 'are': 1, 'you': 1, 'looking': 1, 'in': 1})\n",
      "Counter({'eyes': 7, 'the': 5, 'look': 4, 'into': 3, 'my': 2, 'around': 2, \"don't\": 1, \"you're\": 1, 'under': 1})\n"
     ]
    },
    {
     "data": {
      "text/plain": [
       "Counter({'eyes': 7,\n",
       "         'the': 5,\n",
       "         'look': 4,\n",
       "         'into': 3,\n",
       "         'my': 2,\n",
       "         'around': 2,\n",
       "         \"you're\": 1,\n",
       "         \"don't\": 1,\n",
       "         'under': 1})"
      ]
     },
     "execution_count": 14,
     "metadata": {},
     "output_type": "execute_result"
    }
   ],
   "source": [
    "from collections import Counter\n",
    "\n",
    "words = [\n",
    "    'look', 'into', 'my', 'eyes', 'look', 'into', 'my', 'eyes',\n",
    "    'the', 'eyes', 'the', 'eyes', 'the', 'eyes', 'not', 'around', 'the',\n",
    "    'eyes', \"don't\", 'look', 'around', 'the', 'eyes', 'look', 'into',\n",
    "    'my', 'eyes', \"you're\", 'under'\n",
    "]\n",
    "\n",
    "morewords = ['why','are','you','not','looking','in','my','eyes']\n",
    "a = Counter(words)\n",
    "b = Counter(morewords)\n",
    "print(a)\n",
    "Counter({'eyes': 8, 'the': 5, 'look': 4, 'into': 3, 'my': 3, 'around': 2,\n",
    "\"you're\": 1, \"don't\": 1, 'under': 1, 'not': 1})\n",
    "print(b)\n",
    "Counter({'eyes': 1, 'looking': 1, 'are': 1, 'in': 1, 'not': 1, 'you': 1,\n",
    "'my': 1, 'why': 1})\n",
    "# Combine counts\n",
    "c = a + b\n",
    "print(c)\n",
    "Counter({'eyes': 9, 'the': 5, 'look': 4, 'my': 4, 'into': 3, 'not': 2,\n",
    "'around': 2, \"you're\": 1, \"don't\": 1, 'in': 1, 'why': 1,\n",
    "'looking': 1, 'are': 1, 'under': 1, 'you': 1})\n",
    "# Subtract counts\n",
    "d = a - b\n",
    "print(d)\n",
    "Counter({'eyes': 7, 'the': 5, 'look': 4, 'into': 3, 'my': 2, 'around': 2,\n",
    "\"you're\": 1, \"don't\": 1, 'under': 1})\n"
   ]
  }
 ],
 "metadata": {
  "kernelspec": {
   "display_name": "Python 3",
   "language": "python",
   "name": "python3"
  },
  "language_info": {
   "codemirror_mode": {
    "name": "ipython",
    "version": 3
   },
   "file_extension": ".py",
   "mimetype": "text/x-python",
   "name": "python",
   "nbconvert_exporter": "python",
   "pygments_lexer": "ipython3",
   "version": "3.6.5"
  }
 },
 "nbformat": 4,
 "nbformat_minor": 2
}
