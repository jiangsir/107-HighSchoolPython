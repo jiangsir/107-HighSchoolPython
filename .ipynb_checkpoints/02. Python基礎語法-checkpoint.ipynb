{
 "cells": [
  {
   "cell_type": "markdown",
   "metadata": {
    "slideshow": {
     "slide_type": "slide"
    }
   },
   "source": [
    "# Python 基本語法\n",
    "\n",
    "## 基本字串處理\n",
    "\n",
    "在 Python 中，使用單引號（'）或雙引號（\"）包起來的資料都是字串。然而，以單引號包起來的字串，如果在字串資料中遇到單引號時，則必須以 \\ 來跳脫（escape）處理，避免被誤認為字串結束。\n"
   ]
  },
  {
   "cell_type": "code",
   "execution_count": null,
   "metadata": {
    "slideshow": {
     "slide_type": "subslide"
    }
   },
   "outputs": [],
   "source": [
    "print(\"hgjhgjhgjh\")\n",
    "print('fgjhgfhgjkg')\n",
    "print(\"I'm Sorry.\") #  可以顯示 '\n",
    "print('print(\"Hello\")') #  可以顯示 \"\n",
    "print(\"print(\\\"I'm Sorry.\\\")\") # 用反斜線(Escape字元)顯示 \"\n",
    "print(\"顯示反斜線 \\\\\") # 顯示反斜線\n",
    "print('C:\\\\Documents and Settings\\\\ericsk\\\\test.dat') # windows 路徑\n",
    "print(\"Hello\" + \"Beauty\") # 用 + 串接字串\n",
    "print(\"Hello\", \"world\", 2016) # 串接！不同資料形態的串接\n",
    "s = \"Hello\" + \" Beauty\"*100 # 字串重複\n",
    "print(s)\n",
    "print(s, end='') # 字尾不換行\n",
    "print(\"s 的長度=\", len(s)) #字串長度 字串串數字用 , \n"
   ]
  },
  {
   "cell_type": "markdown",
   "metadata": {
    "slideshow": {
     "slide_type": "slide"
    }
   },
   "source": [
    "## 算數運算子"
   ]
  },
  {
   "cell_type": "code",
   "execution_count": 17,
   "metadata": {
    "slideshow": {
     "slide_type": "-"
    }
   },
   "outputs": [
    {
     "name": "stdout",
     "output_type": "stream",
     "text": [
      "8\n",
      "6\n",
      "15\n",
      "1.5\n",
      "1\n",
      "3\n",
      "1000\n",
      "14\n",
      "0.30000000000000004\n"
     ]
    }
   ],
   "source": [
    "print(3 + 5) # 加\n",
    "print(8 - 2) # 減\n",
    "print(3 * 5) # 乘\n",
    "print(3 / 2) # 除\n",
    "print(3 // 2) # 商\n",
    "print(13 % 10) # 餘\n",
    "print(10 ** 3) # 指數\n",
    "print((3 + 4) * 2) # 先乘除後加減\n",
    "print(0.1 + 0.2) # 小數點誤差\n"
   ]
  },
  {
   "cell_type": "markdown",
   "metadata": {
    "slideshow": {
     "slide_type": "slide"
    }
   },
   "source": [
    "\n",
    "## 比較運算子\n",
    "\n",
    "<pre>\n",
    "<  : 小於\n",
    "<=  : 小於等於\n",
    "> : 大於\n",
    ">= : 大於等於\n",
    "== : 相等\n",
    "!= : 不等於\n",
    "</pre>"
   ]
  },
  {
   "cell_type": "code",
   "execution_count": 18,
   "metadata": {},
   "outputs": [
    {
     "name": "stdout",
     "output_type": "stream",
     "text": [
      "False\n"
     ]
    }
   ],
   "source": [
    "print(0.1 + 0.2 == 0.3) # 小數點誤差"
   ]
  },
  {
   "cell_type": "markdown",
   "metadata": {},
   "source": [
    "## 變數觀念\n",
    "\n",
    "### Python 宣告變數雖然不需要指定變數資料型態，但它仍然是強資料型態語言。\n"
   ]
  },
  {
   "cell_type": "code",
   "execution_count": 20,
   "metadata": {},
   "outputs": [],
   "source": [
    "a = 5\n",
    "\n",
    "b = 3.14\n",
    "c = True\n",
    "d = \"Hello world\""
   ]
  },
  {
   "cell_type": "markdown",
   "metadata": {
    "slideshow": {
     "slide_type": "slide"
    }
   },
   "source": [
    "## 基本資料型態\n",
    "* 布林(Boolean):True/False \n",
    "* 整數(Integer): 整數沒有大小限制 e.q. 2016\n",
    "* 浮點數(Float): 有小數點的數字 e.q.  3.14159\n",
    "* 字串(String): 字串 e.q. “Hello”, ‘Hello’"
   ]
  },
  {
   "cell_type": "code",
   "execution_count": 1,
   "metadata": {
    "slideshow": {
     "slide_type": "subslide"
    }
   },
   "outputs": [
    {
     "name": "stdout",
     "output_type": "stream",
     "text": [
      "<class 'int'>\n",
      "<class 'float'>\n",
      "<class 'bool'>\n",
      "<class 'str'>\n"
     ]
    }
   ],
   "source": [
    "a = 5\n",
    "print(type(a))\n",
    "\n",
    "b = 3.1415926\n",
    "print(type(b))\n",
    "\n",
    "c = True\n",
    "print(type(c))\n",
    "\n",
    "d = \"Hello\"\n",
    "print(type(d))"
   ]
  },
  {
   "cell_type": "markdown",
   "metadata": {
    "slideshow": {
     "slide_type": "subslide"
    }
   },
   "source": [
    "## 資料型態轉換\n",
    "\n",
    "轉換成整數：  \n",
    "int(3.14) = 3  # 無條件捨去  \n",
    "int(“12”) = 12 # 變成可運算的數字  \n",
    "轉換成浮點數：  \n",
    "float(“3.14”) = 3.14  \n",
    "轉換成字串：  \n",
    "str(3.14) =  \"3.14\"  \n"
   ]
  },
  {
   "cell_type": "code",
   "execution_count": 17,
   "metadata": {
    "slideshow": {
     "slide_type": "subslide"
    }
   },
   "outputs": [
    {
     "name": "stdout",
     "output_type": "stream",
     "text": [
      "3\n",
      "14\n",
      "<class 'str'>\n",
      "3.1415926\n",
      "<class 'float'>\n",
      "3.1415926\n"
     ]
    }
   ],
   "source": [
    "\n",
    "print(int(3.1415926)) # 從浮點數轉換到整數會造成誤差。\n",
    "print(int(\"12\") + 2)\n",
    "pi = \"3.1415926\"\n",
    "print(type(pi))\n",
    "print(float(pi))\n",
    "print(type( float(pi) ))\n",
    "\n",
    "print(str(3.1415926))\n"
   ]
  },
  {
   "cell_type": "markdown",
   "metadata": {
    "slideshow": {
     "slide_type": "slide"
    }
   },
   "source": [
    "## 鍵盤輸入\n",
    "\n",
    "    input(\"提示\")"
   ]
  },
  {
   "cell_type": "code",
   "execution_count": 21,
   "metadata": {},
   "outputs": [
    {
     "name": "stdout",
     "output_type": "stream",
     "text": [
      "請輸入出生年?2000\n",
      "<class 'str'>\n",
      "您出生於民國 89 年\n"
     ]
    }
   ],
   "source": [
    "year = input('請輸入出生年?')\n",
    "\n",
    "print(type(year))\n",
    "\n",
    "print(\"您出生於民國\", int(year)-1911, \"年\")\n"
   ]
  },
  {
   "cell_type": "markdown",
   "metadata": {},
   "source": [
    "## 運算優先順序\n",
    "\n",
    "下面的表格中列出了 Python 中的各種運算的優先順序順序。不過，就一般情況而言，不需要記憶，完全可以按照數學中的去理解，因為人類既然已經發明瞭數學，在計算機中進行的運算就不需要從新編寫一套新規範了，只需要符合數學中的即可。\n",
    "\n",
    "![img](images/operator.jpg)\n",
    "\n",
    "<table><thead><tr><th>運算子</th><th>描述</th></tr></thead><tbody><tr><td>lambda</td><td>Lambda 表示式</td></tr><tr><td>or</td><td>布林“或”</td></tr><tr><td>and</td><td>布林“與”</td></tr><tr><td>not x</td><td>布林“非”</td></tr><tr><td>in，not in</td><td>成員測試</td></tr><tr><td>is，is not</td><td>同一性測試</td></tr><tr><td>&lt;，&lt;=，&gt;，&gt;=，!=，==</td><td>比較</td></tr><tr><td>|</td><td>按位或</td></tr><tr><td>^</td><td>按位異或</td></tr><tr><td>&amp;</td><td>按位與</td></tr><tr><td>&lt;&lt;，&gt;&gt;</td><td>移位</td></tr><tr><td> ，-</td><td>加法與減法</td></tr><tr><td>*，/，%</td><td>乘法、除法與取餘</td></tr><tr><td> x，-x</td><td>正負號</td></tr><tr><td>~x</td><td>按位翻轉</td></tr><tr><td>**</td><td>指數</td></tr><tr><td>x.attribute</td><td>屬性參考</td></tr><tr><td>x[index]</td><td>下標</td></tr><tr><td>x[index:index]</td><td>定址段</td></tr><tr><td>f(arguments…)</td><td>函式呼叫</td></tr><tr><td>(experession,…)</td><td>繫結或元組顯示</td></tr><tr><td>[expression,…]</td><td>列表顯示</td></tr><tr><td>{key:datum,…}</td><td>字典顯示</td></tr><tr><td>‘expression,…’</td><td>字串轉換</td></tr></tbody></table>\n"
   ]
  },
  {
   "cell_type": "markdown",
   "metadata": {},
   "source": [
    "# 內建函式庫與標準函式庫\n",
    "\n",
    "Python 內建許多必要的函式，像是 input()、print() 與 len() 等，除此之外還有一些常用的函式庫，視需要再 import 即可，稱為標準函式庫，像是 math 或者 random。"
   ]
  },
  {
   "cell_type": "markdown",
   "metadata": {},
   "source": [
    "## 數學函式庫\n",
    "\n",
    "一些常見的數學函數已經被包含在數學函式庫當中了。\n",
    "\n",
    "引用函式庫 math，即可使用。\n",
    "\n",
    "詳細引用規範請參閱 [6. Python 引入模組與套件](6. Python 引入模組與套件.ipynb)\n"
   ]
  },
  {
   "cell_type": "code",
   "execution_count": 24,
   "metadata": {},
   "outputs": [
    {
     "name": "stdout",
     "output_type": "stream",
     "text": [
      "圓周率: 3.141592653589793\n",
      "['__doc__', '__loader__', '__name__', '__package__', '__spec__', 'acos', 'acosh', 'asin', 'asinh', 'atan', 'atan2', 'atanh', 'ceil', 'copysign', 'cos', 'cosh', 'degrees', 'e', 'erf', 'erfc', 'exp', 'expm1', 'fabs', 'factorial', 'floor', 'fmod', 'frexp', 'fsum', 'gamma', 'gcd', 'hypot', 'inf', 'isclose', 'isfinite', 'isinf', 'isnan', 'ldexp', 'lgamma', 'log', 'log10', 'log1p', 'log2', 'modf', 'nan', 'pi', 'pow', 'radians', 'sin', 'sinh', 'sqrt', 'tan', 'tanh', 'tau', 'trunc']\n",
      "Help on built-in function sqrt in module math:\n",
      "\n",
      "sqrt(...)\n",
      "    sqrt(x)\n",
      "    \n",
      "    Return the square root of x.\n",
      "\n",
      "None\n",
      "平方根: 3.0\n",
      "無條件捨去: 3\n",
      "絕對值: 2.0\n",
      "絕對值: 2\n",
      "Help on built-in function round in module builtins:\n",
      "\n",
      "round(...)\n",
      "    round(number[, ndigits]) -> number\n",
      "    \n",
      "    Round a number to a given precision in decimal digits (default 0 digits).\n",
      "    This returns an int when called with one argument, otherwise the\n",
      "    same type as the number. ndigits may be negative.\n",
      "\n",
      "四捨五入(整數): 1\n",
      "四捨五入(整數): 2\n",
      "四捨五入(小數2位) 1.23\n",
      "四捨五入(小數2位) 1.24\n"
     ]
    }
   ],
   "source": [
    "import math\n",
    "print('圓周率:', math.pi)\n",
    "\n",
    "# 查看函式庫裡面有哪些函式可供使用；\n",
    "print(dir(math))\n",
    "\n",
    "# 查看函式的使用方法\n",
    "print(help(math.sqrt))\n",
    "\n",
    "print('平方根:', math.sqrt(9))\n",
    "print('無條件捨去:', math.floor(3.99))\n",
    "print('絕對值:', math.fabs(-2)) # 等價於 abs(-2)\n",
    "print('絕對值:', abs(-2))\n",
    "\n",
    "help(round)\n",
    "print('四捨五入(整數):', round(1.234))\n",
    "print('四捨五入(整數):', round(1.734))\n",
    "print('四捨五入(小數2位)', round(1.234,2))\n",
    "print('四捨五入(小數2位)', round(1.235,2))"
   ]
  },
  {
   "cell_type": "markdown",
   "metadata": {},
   "source": [
    "### 無限大的數"
   ]
  },
  {
   "cell_type": "code",
   "execution_count": 7,
   "metadata": {},
   "outputs": [
    {
     "name": "stdout",
     "output_type": "stream",
     "text": [
      "無窮大: inf\n",
      "無窮大: inf\n",
      "無窮小: -inf\n"
     ]
    }
   ],
   "source": [
    "# 第一種寫法\n",
    "import math\n",
    "test = math.inf\n",
    "print('無窮大:', test)\n",
    "\n",
    "# 第二種寫法\n",
    "test = float('inf')\n",
    "print('無窮大:', test)\n",
    "\n",
    "print('無窮小:', -test)"
   ]
  },
  {
   "cell_type": "markdown",
   "metadata": {},
   "source": [
    "### 亂數"
   ]
  },
  {
   "cell_type": "code",
   "execution_count": 35,
   "metadata": {},
   "outputs": [
    {
     "name": "stdout",
     "output_type": "stream",
     "text": [
      "4\n",
      "0.9308639188037799\n"
     ]
    }
   ],
   "source": [
    "from random import *\n",
    "\n",
    "# 產生一個 0 <= randint <=9 之間的一組整數亂數\n",
    "print(randint(0, 9))\n",
    "\n",
    "# 產生一個 0 <= rand <=1 之間的一組浮點數亂數\n",
    "print(random())\n"
   ]
  },
  {
   "cell_type": "markdown",
   "metadata": {
    "slideshow": {
     "slide_type": "slide"
    }
   },
   "source": [
    "## 字串: 取得子字串\n",
    "\n",
    "Python 字串編號圖示：\n",
    "\n",
    "![Alt text](images/substring.png)\n",
    "\n",
    "\n",
    "幾個子字串常見的寫法： \n",
    "* :冒號前的 INDEX 省略代表從 0 開始。\n",
    "* :冒號後的 INDEX 省略代表直到最後一個字元。\n",
    "*        str[INDEX] 取得 INDEX 的字元  \n",
    "*        str[-INDEX] 取得倒數 INDEX 的字元  \n",
    "*    str[START:END] 從 START 到 END-1 的子字串  \n",
    "*    str[START:END:STEP] 從 START 到 END-1 每隔 STEP 的子字串  "
   ]
  },
  {
   "cell_type": "code",
   "execution_count": null,
   "metadata": {
    "slideshow": {
     "slide_type": "subslide"
    }
   },
   "outputs": [],
   "source": [
    "s = 'Hello Beauty'\n",
    "print(\"s[0]=\",s[0]) # 字串 s 的第 0 個字元，python 使用 0 based 索引\n",
    "print(\"s[6:12]=\",s[6:12]) # 6~11 的子字串 6<=index<12\n",
    "print(\"s[6:]=\",s[6:]) # 6~字串尾端 的子字串\n",
    "print(\"s[:6]=\",s[:6]) # 0～5 子字串\n",
    "print(\"s[6:-2]=\",s[6:-2]) # -6 代表倒數第6位\n",
    "print(\"s[-6:]=\",s[-6:]) # 取得最後 6 位\n",
    "print(\"s[:]=\", s[:])\n",
    "print(\"s[::2]=\",s[::2]) # 從 0 開始間隔 2 個字元\n",
    "print(\"s[0:6:2]=\",s[0:6:2]) # 0~5 間隔 2 個字元\n",
    "print(\"s[::-1]=\",s[::-1]) # 獲得一個倒反的字串"
   ]
  },
  {
   "cell_type": "markdown",
   "metadata": {
    "slideshow": {
     "slide_type": "slide"
    }
   },
   "source": [
    "## 格式化輸出\n",
    "\n",
    "### 方法 str.format() 的基本用法如下:\n",
    "\n"
   ]
  },
  {
   "cell_type": "code",
   "execution_count": null,
   "metadata": {
    "slideshow": {
     "slide_type": "subslide"
    }
   },
   "outputs": [],
   "source": [
    "print('We are the {} who say \"{}!\"'.format('knights', 'Ni'))\n",
    "print('{0} and {1}'.format('spam', 'eggs'))\n",
    "print('{1} and {0}'.format('spam', 'eggs'))\n",
    "\n",
    "import math\n",
    "print('The value of PI is approximately %5.3f.' % math.pi)\n",
    "print('The value of PI is approximately {:5.3f}.'.format(math.pi))\n",
    "\n",
    "# 可以直接呼叫關鍵字參數\n",
    "print('This {food} is {adjective}.'.format(food='spam', adjective='absolutely horrible'))\n",
    "# 位置參數和關鍵字參數可以隨意組合:\n",
    "print('The story of {0}, {1}, and {other}.'.format('Bill', 'Manfred', other='Georg'))"
   ]
  },
  {
   "cell_type": "markdown",
   "metadata": {
    "slideshow": {
     "slide_type": "subslide"
    }
   },
   "source": [
    "## 常見的格式化參數\n",
    "\n",
    "<table class=\"code\">\n",
    "<tbody><tr>\n",
    "<th> Number </th>\n",
    "<th> Format </th>\n",
    "<th> Output </th>\n",
    "<th> Description </th>\n",
    "</tr>\n",
    "<tr>\n",
    "<td> 3.1415926  </td>\n",
    "<td> {:.2f}  </td>\n",
    "<td> 3.14  </td>\n",
    "<td> 2 decimal places </td>\n",
    "</tr>\n",
    "<tr>\n",
    "<td> 3.1415926  </td>\n",
    "<td> {:+.2f} </td>\n",
    "<td> +3.14 </td>\n",
    "<td> 2 decimal places with sign </td>\n",
    "</tr>\n",
    "<tr>\n",
    "<td> -1         </td>\n",
    "<td> {:+.2f} </td>\n",
    "<td> -1.00 </td>\n",
    "<td> 2 decimal places with sign </td>\n",
    "</tr>\n",
    "<tr>\n",
    "<td> 2.71828    </td>\n",
    "<td> {:.0f}  </td>\n",
    "<td> 3   </td>\n",
    "<td> No decimal places </td>\n",
    "</tr>\n",
    "<tr>\n",
    "<td> 5          </td>\n",
    "<td> {:0&gt;2d} </td>\n",
    "<td> 05  </td>\n",
    "<td> Pad number with zeros (left padding, width 2) </td>\n",
    "</tr>\n",
    "<tr>\n",
    "<td> 5          </td>\n",
    "<td> {:x&lt;4d} </td>\n",
    "<td> 5xxx  </td>\n",
    "<td> Pad number with x’s (right padding, width 4) </td>\n",
    "</tr>\n",
    "<tr>\n",
    "<td> 10         </td>\n",
    "<td> {:x&lt;4d} </td>\n",
    "<td> 10xx  </td>\n",
    "<td> Pad number with x’s (right padding, width 4) </td>\n",
    "</tr>\n",
    "<tr>\n",
    "<td> 1000000    </td>\n",
    "<td> {:,}    </td>\n",
    "<td> 1,000,000  </td>\n",
    "<td> Number format with comma separator </td>\n",
    "</tr>\n",
    "<tr>\n",
    "<td> 0.25       </td>\n",
    "<td> {:.2%}  </td>\n",
    "<td> 25.00%  </td>\n",
    "<td> Format percentage </td>\n",
    "</tr>\n",
    "<tr>\n",
    "<td> 1000000000 </td>\n",
    "<td> {:.2e}  </td>\n",
    "<td> 1.00e+09 </td>\n",
    "<td> Exponent notation </td>\n",
    "</tr>\n",
    "<tr>\n",
    "<td> 13         </td>\n",
    "<td> {:10d}  </td>\n",
    "<td> &nbsp;&nbsp;&nbsp;&nbsp;&nbsp;&nbsp;&nbsp;&nbsp;13 </td>\n",
    "<td> Right aligned (default, width 10) </td>\n",
    "</tr>\n",
    "<tr>\n",
    "<td> 13         </td>\n",
    "<td> {:&lt;10d} </td>\n",
    "<td> 13 </td>\n",
    "<td> Left aligned (width 10) </td>\n",
    "</tr>\n",
    "<tr>\n",
    "<td> 13         </td>\n",
    "<td> {:^10d} </td>\n",
    "<td> &nbsp;&nbsp;&nbsp;&nbsp;13 </td>\n",
    "<td> Center aligned (width 10) </td>\n",
    "</tr>\n",
    "</tbody></table>"
   ]
  },
  {
   "cell_type": "markdown",
   "metadata": {},
   "source": [
    "## 字串函數\n"
   ]
  },
  {
   "cell_type": "code",
   "execution_count": null,
   "metadata": {},
   "outputs": [],
   "source": [
    "s = \"...Hello \" + \"Beauty \"*3 # 字串重複\n",
    "print(\"s=\"+s)\n",
    "print(s.find('B')) # 由左邊找起第一個找到的索引\n",
    "print(s.replace('Beauty', 'Ugly')) # 取代某個字串\n",
    "print(s.split()) # 字串分割 預設用 \" \" 分割\n",
    "print(s.split('B')) # 字串分割 用 \"B\" 分割\n",
    "print(s.upper())\n",
    "print(s.lower())\n",
    "print(','.join(s)) # 字串的每個字元間插入一個\n",
    "print(','.join(s.split())) # List 的每個元素中插入一個 ,\n",
    "print(s.count('Beauty')) # 計算字串出現的次數\n",
    "print(s.strip()) # 清除掉頭尾的空白字元\n",
    "print(\"strip: \",s.strip(',.-')) # 清除掉頭尾的字元\n",
    "\n",
    "# 字元與整數互換。透過 ASCII 表。\n",
    "# chr(97) ==》 A\n",
    "# ord(\"A\") ==》 97\n",
    "s = \"村上春樹\"\n",
    "s = s.replace(s[1:-1], \"O\"*len(s[1:-1]))\n",
    "print(s)\n",
    "#將姓名中間兩個子替換成相同個數的 O\n",
    "s = \"王大同\"\n",
    "s = s.replace(s[1], \"O\")\n",
    "print(s)\n"
   ]
  }
 ],
 "metadata": {
  "celltoolbar": "Slideshow",
  "kernelspec": {
   "display_name": "Python 3",
   "language": "python",
   "name": "python3"
  },
  "language_info": {
   "codemirror_mode": {
    "name": "ipython",
    "version": 3
   },
   "file_extension": ".py",
   "mimetype": "text/x-python",
   "name": "python",
   "nbconvert_exporter": "python",
   "pygments_lexer": "ipython3",
   "version": "3.6.5"
  }
 },
 "nbformat": 4,
 "nbformat_minor": 1
}
