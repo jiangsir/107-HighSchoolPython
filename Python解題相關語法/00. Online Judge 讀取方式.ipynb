{
 "cells": [
  {
   "cell_type": "markdown",
   "metadata": {},
   "source": [
    "# Online Judge 常見的讀取方式\n",
    "\n",
    "* 單行\n",
    "* 多行\n",
    "* 提示行數\n",
    "\n",
    "Python 的 input 讀取進來一律是 str 因此需要再進行一次資料轉型\n"
   ]
  },
  {
   "cell_type": "markdown",
   "metadata": {},
   "source": [
    "## 單行 -- 單個數字\n",
    "\n",
    "提示讀入一個整數。\n",
    "\n",
    "例題: https://zerojudge.tw/ShowProblem?problemid=d049\n"
   ]
  },
  {
   "cell_type": "code",
   "execution_count": 1,
   "metadata": {},
   "outputs": [
    {
     "name": "stdout",
     "output_type": "stream",
     "text": [
      "2008\n",
      "97\n"
     ]
    }
   ],
   "source": [
    "year = int(input())\n",
    "print(year-1911)"
   ]
  },
  {
   "cell_type": "markdown",
   "metadata": {},
   "source": [
    "## 單行 -- 多個數字\n",
    "\n",
    "若題目告數你固定個值以空白隔開，直接賦值給數個變數即可。\n"
   ]
  },
  {
   "cell_type": "code",
   "execution_count": 2,
   "metadata": {},
   "outputs": [
    {
     "name": "stdout",
     "output_type": "stream",
     "text": [
      "2 3 4\n",
      "2\n",
      "3\n",
      "4\n"
     ]
    }
   ],
   "source": [
    "ll = input().split()\n",
    "for i in ll:\n",
    "    print(i)"
   ]
  },
  {
   "cell_type": "markdown",
   "metadata": {},
   "source": [
    "## 單行 -- 固定數量\n",
    "\n",
    "若題目告數你固定個值以空白隔開，直接放入數個變數即可。\n"
   ]
  },
  {
   "cell_type": "code",
   "execution_count": 2,
   "metadata": {
    "scrolled": true
   },
   "outputs": [
    {
     "name": "stdout",
     "output_type": "stream",
     "text": [
      "2 3 4\n",
      "2\n",
      "3\n",
      "4\n"
     ]
    }
   ],
   "source": [
    "x, y = input().split()\n",
    "print(x)\n",
    "print(y)\n",
    "\n",
    "\n",
    "\n"
   ]
  },
  {
   "cell_type": "markdown",
   "metadata": {},
   "source": [
    "### 讀取進來之後進行資料型態轉換"
   ]
  },
  {
   "cell_type": "code",
   "execution_count": null,
   "metadata": {},
   "outputs": [],
   "source": [
    "a,b,c = map(int,input().split())\n"
   ]
  },
  {
   "cell_type": "markdown",
   "metadata": {},
   "source": [
    "### 讀取進來之後進行資料型態轉換 -- 使用 map 函數"
   ]
  },
  {
   "cell_type": "code",
   "execution_count": null,
   "metadata": {},
   "outputs": [],
   "source": [
    "a,b,c = map(int,input().split())"
   ]
  },
  {
   "cell_type": "markdown",
   "metadata": {},
   "source": [
    "## 固定行數\n",
    "\n",
    "用 for 迴圈進行 input()"
   ]
  },
  {
   "cell_type": "code",
   "execution_count": null,
   "metadata": {},
   "outputs": [],
   "source": [
    "n = int(input())\n",
    "for i in range(n):\n",
    "    s = input()"
   ]
  },
  {
   "cell_type": "markdown",
   "metadata": {},
   "source": [
    "## 讀取進來的資料進行資料型態轉換 -- 使用列表生成式"
   ]
  },
  {
   "cell_type": "code",
   "execution_count": null,
   "metadata": {},
   "outputs": [],
   "source": [
    "ll = [int(n) for n in input().split()]"
   ]
  },
  {
   "cell_type": "markdown",
   "metadata": {},
   "source": [
    "## 多行 -- 不固定行數，讀到檔尾"
   ]
  },
  {
   "cell_type": "code",
   "execution_count": null,
   "metadata": {},
   "outputs": [],
   "source": [
    "# 兩種做法, 第一種，用無窮迴圈不斷讀取，直到檔尾會拋出例外，捕捉例外離開迴圈。\n",
    "\n",
    "while True:\n",
    "  try:\n",
    "    s = input()\n",
    "  except:\n",
    "    break\n"
   ]
  },
  {
   "cell_type": "code",
   "execution_count": null,
   "metadata": {},
   "outputs": [],
   "source": [
    "# 第二種做法，利用 sys.stdin 來處理\n",
    "\n",
    "import sys\n",
    "\n",
    "for line in sys.stdin:\n",
    "    print(line)\n"
   ]
  },
  {
   "cell_type": "markdown",
   "metadata": {},
   "source": [
    "## 自建測資 -- 輸入測資\n"
   ]
  },
  {
   "cell_type": "code",
   "execution_count": 40,
   "metadata": {},
   "outputs": [
    {
     "data": {
      "text/plain": [
       "['e093_00.in',\n",
       " 'e093_01.in',\n",
       " 'e093_02.in',\n",
       " 'e093_03.in',\n",
       " 'e093_04.in',\n",
       " 'e093_05.in',\n",
       " 'e093_06.in',\n",
       " 'e093_07.in',\n",
       " 'e093_08.in',\n",
       " 'e093_09.in']"
      ]
     },
     "execution_count": 40,
     "metadata": {},
     "output_type": "execute_result"
    }
   ],
   "source": [
    "import os\n",
    "import random\n",
    "\n",
    "testfilecount = 10\n",
    "problemid = 'e093'\n",
    "basepath = \"D:\\\\\"+problemid\n",
    "if not os.path.exists(basepath):\n",
    "    os.makedirs(basepath)\n",
    "\n",
    "for i in range(testfilecount):\n",
    "    filename = basepath+'\\\\'+problemid+'_{:02d}.in'.format(i)\n",
    "    first = random.randint(1, 10000)\n",
    "    gongbi = random.randint(1, 1000000)\n",
    "    with open(filename, 'w') as out:\n",
    "        out.write(str(first)+' '+str(gongbi)+'\\n')\n",
    "\n",
    "\n",
    "os.listdir(basepath)"
   ]
  },
  {
   "cell_type": "markdown",
   "metadata": {},
   "source": [
    "## 自建測資 -- 輸出測資 呼叫 problemid.py 產生 .out 檔"
   ]
  },
  {
   "cell_type": "code",
   "execution_count": 64,
   "metadata": {},
   "outputs": [
    {
     "name": "stdout",
     "output_type": "stream",
     "text": [
      "python D:\\e093\\e093.py < D:\\e093\\e093_00.in > D:\\e093\\e093_00.out\n",
      "python D:\\e093\\e093.py < D:\\e093\\e093_01.in > D:\\e093\\e093_01.out\n",
      "python D:\\e093\\e093.py < D:\\e093\\e093_02.in > D:\\e093\\e093_02.out\n",
      "python D:\\e093\\e093.py < D:\\e093\\e093_03.in > D:\\e093\\e093_03.out\n",
      "python D:\\e093\\e093.py < D:\\e093\\e093_04.in > D:\\e093\\e093_04.out\n",
      "python D:\\e093\\e093.py < D:\\e093\\e093_05.in > D:\\e093\\e093_05.out\n",
      "python D:\\e093\\e093.py < D:\\e093\\e093_06.in > D:\\e093\\e093_06.out\n",
      "python D:\\e093\\e093.py < D:\\e093\\e093_07.in > D:\\e093\\e093_07.out\n",
      "python D:\\e093\\e093.py < D:\\e093\\e093_08.in > D:\\e093\\e093_08.out\n",
      "python D:\\e093\\e093.py < D:\\e093\\e093_09.in > D:\\e093\\e093_09.out\n"
     ]
    },
    {
     "data": {
      "text/plain": [
       "['e093.py',\n",
       " 'e093_00.in',\n",
       " 'e093_00.out',\n",
       " 'e093_01.in',\n",
       " 'e093_01.out',\n",
       " 'e093_02.in',\n",
       " 'e093_02.out',\n",
       " 'e093_03.in',\n",
       " 'e093_03.out',\n",
       " 'e093_04.in',\n",
       " 'e093_04.out',\n",
       " 'e093_05.in',\n",
       " 'e093_05.out',\n",
       " 'e093_06.in',\n",
       " 'e093_06.out',\n",
       " 'e093_07.in',\n",
       " 'e093_07.out',\n",
       " 'e093_08.in',\n",
       " 'e093_08.out',\n",
       " 'e093_09.in',\n",
       " 'e093_09.out']"
      ]
     },
     "execution_count": 64,
     "metadata": {},
     "output_type": "execute_result"
    }
   ],
   "source": [
    "testfilecount = 10\n",
    "problemid = 'e093'\n",
    "basepath = \"D:\\\\\"+problemid\n",
    "\n",
    "for i in range(testfilecount):\n",
    "    infilename = basepath+'\\\\'+problemid+'_{:02d}.in'.format(i)\n",
    "    with open(infilename, 'r') as out:\n",
    "        s = out.read().strip()\n",
    "    \n",
    "    f, g = s.split()\n",
    "    outfilename = basepath+'\\\\'+problemid+'_{:02d}.out'.format(i)\n",
    "    cmd = 'python '+basepath+'\\\\'+problemid+'.py < ' + infilename + ' > ' + outfilename\n",
    "    print(cmd)\n",
    "    os.system(cmd)\n",
    "        \n",
    "os.listdir(basepath)"
   ]
  },
  {
   "cell_type": "markdown",
   "metadata": {},
   "source": [
    "# 延伸參考資料\n",
    "\n",
    "[2015 年板橋高中校內培訓講義](https://docs.google.com/document/d/1A5pBTSSr-jyMsh5vCIEZhGN9W5VEFs8Z_G_u5OLsYJ0/edit?pli=1#heading=h.67l4wxj0usgf)"
   ]
  }
 ],
 "metadata": {
  "kernelspec": {
   "display_name": "Python 3",
   "language": "python",
   "name": "python3"
  },
  "language_info": {
   "codemirror_mode": {
    "name": "ipython",
    "version": 3
   },
   "file_extension": ".py",
   "mimetype": "text/x-python",
   "name": "python",
   "nbconvert_exporter": "python",
   "pygments_lexer": "ipython3",
   "version": "3.6.5"
  }
 },
 "nbformat": 4,
 "nbformat_minor": 2
}
