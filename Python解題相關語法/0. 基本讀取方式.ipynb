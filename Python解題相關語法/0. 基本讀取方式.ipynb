{
 "cells": [
  {
   "cell_type": "markdown",
   "metadata": {},
   "source": [
    "一般在 Online Judge 上練習寫程式都會需要用到輸入，常見的讀取方式整理在此。\n",
    "\n",
    "大致有:\n",
    "* 單獨讀取一個值\n",
    "* 讀取一行中的多個值\n",
    "* 連續讀取特定行數\n",
    "* 連續讀取不特定行數\n",
    "* 連續讀取到特定條件停止"
   ]
  },
  {
   "cell_type": "code",
   "execution_count": null,
   "metadata": {},
   "outputs": [],
   "source": []
  }
 ],
 "metadata": {
  "kernelspec": {
   "display_name": "Python 3",
   "language": "python",
   "name": "python3"
  },
  "language_info": {
   "codemirror_mode": {
    "name": "ipython",
    "version": 3
   },
   "file_extension": ".py",
   "mimetype": "text/x-python",
   "name": "python",
   "nbconvert_exporter": "python",
   "pygments_lexer": "ipython3",
   "version": "3.6.5"
  }
 },
 "nbformat": 4,
 "nbformat_minor": 2
}
