{
 "cells": [
  {
   "cell_type": "code",
   "execution_count": 11,
   "metadata": {},
   "outputs": [
    {
     "data": {
      "text/plain": [
       "[5, 9, 2, 1, 9, 1, 4, 2, 9, 6]"
      ]
     },
     "execution_count": 11,
     "metadata": {},
     "output_type": "execute_result"
    }
   ],
   "source": [
    "from random import randint\n",
    "randoms = [randint(0, 9) for i in range(10)]\n",
    "\n"
   ]
  },
  {
   "cell_type": "markdown",
   "metadata": {},
   "source": [
    "list.sort()\n",
    "\n",
    "sorted()\n"
   ]
  },
  {
   "cell_type": "code",
   "execution_count": 14,
   "metadata": {},
   "outputs": [
    {
     "name": "stdout",
     "output_type": "stream",
     "text": [
      "['ababa', 'bbaa', 'cbaba']\n"
     ]
    }
   ],
   "source": [
    "my_alphabet = ['a', 'b', 'c'] \n",
    "def custom_key(word):\n",
    "    numbers = [] \n",
    "    for letter in word: \n",
    "        numbers.append(my_alphabet.index(letter)) \n",
    "        return numbers # python中的整数列表能够比较大小 \n",
    "    # custom_key('cbaba')==[2, 1, 0, 1, 0] \n",
    "\n",
    "x=['cbaba', 'ababa', 'bbaa'] \n",
    "x.sort(key=custom_key)\n",
    "\n",
    "print(x)\n"
   ]
  }
 ],
 "metadata": {
  "kernelspec": {
   "display_name": "Python 3",
   "language": "python",
   "name": "python3"
  },
  "language_info": {
   "codemirror_mode": {
    "name": "ipython",
    "version": 3
   },
   "file_extension": ".py",
   "mimetype": "text/x-python",
   "name": "python",
   "nbconvert_exporter": "python",
   "pygments_lexer": "ipython3",
   "version": "3.6.5"
  }
 },
 "nbformat": 4,
 "nbformat_minor": 2
}
