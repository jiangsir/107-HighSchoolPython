{
 "cells": [
  {
   "cell_type": "markdown",
   "metadata": {},
   "source": [
    "# 基本的排序"
   ]
  },
  {
   "cell_type": "code",
<<<<<<< HEAD
   "execution_count": null,
   "metadata": {},
   "outputs": [],
   "source": []
  },
  {
   "cell_type": "code",
   "execution_count": null,
   "metadata": {},
   "outputs": [],
   "source": []
  },
  {
   "cell_type": "code",
   "execution_count": null,
   "metadata": {},
   "outputs": [],
   "source": []
  },
  {
   "cell_type": "code",
   "execution_count": null,
   "metadata": {},
   "outputs": [],
   "source": []
  },
  {
   "cell_type": "code",
   "execution_count": null,
   "metadata": {},
   "outputs": [],
   "source": []
  },
  {
   "cell_type": "code",
   "execution_count": null,
   "metadata": {},
   "outputs": [],
   "source": []
  },
  {
   "cell_type": "code",
   "execution_count": null,
   "metadata": {},
   "outputs": [],
   "source": []
  },
  {
   "cell_type": "code",
   "execution_count": null,
   "metadata": {},
   "outputs": [],
   "source": []
  },
  {
   "cell_type": "code",
   "execution_count": null,
   "metadata": {},
   "outputs": [],
   "source": []
  },
  {
   "cell_type": "code",
   "execution_count": null,
   "metadata": {},
   "outputs": [],
   "source": []
  },
  {
   "cell_type": "code",
   "execution_count": null,
   "metadata": {},
   "outputs": [],
   "source": []
  },
  {
   "cell_type": "code",
   "execution_count": null,
   "metadata": {},
   "outputs": [],
   "source": []
  },
  {
   "cell_type": "code",
   "execution_count": null,
   "metadata": {},
   "outputs": [],
   "source": []
  },
  {
   "cell_type": "code",
   "execution_count": null,
   "metadata": {},
   "outputs": [],
   "source": []
  },
  {
   "cell_type": "code",
   "execution_count": null,
   "metadata": {},
   "outputs": [],
   "source": []
  },
  {
   "cell_type": "code",
   "execution_count": null,
   "metadata": {},
   "outputs": [],
   "source": []
  },
  {
   "cell_type": "code",
   "execution_count": null,
   "metadata": {},
   "outputs": [],
   "source": []
  },
  {
   "cell_type": "code",
   "execution_count": null,
   "metadata": {},
   "outputs": [],
   "source": []
  },
  {
   "cell_type": "code",
   "execution_count": null,
   "metadata": {},
   "outputs": [],
   "source": []
  },
  {
   "cell_type": "code",
   "execution_count": null,
   "metadata": {},
   "outputs": [],
   "source": []
  },
  {
   "cell_type": "code",
   "execution_count": null,
   "metadata": {},
   "outputs": [],
   "source": []
  },
  {
   "cell_type": "code",
   "execution_count": null,
   "metadata": {},
   "outputs": [],
   "source": []
  },
  {
   "cell_type": "code",
   "execution_count": 6,
=======
   "execution_count": 7,
>>>>>>> d46c82c7a9c92a593ce55588d4ec9aac2ccbafb5
   "metadata": {},
   "outputs": [
    {
     "name": "stdout",
     "output_type": "stream",
     "text": [
      "原始 ['Marry', 'Tom', 'John', 'C', 'E', 'D', 'apple', 'Apple']\n",
      "sorted:  ['Apple', 'C', 'D', 'E', 'John', 'Marry', 'Tom', 'apple']\n",
      "sorted dict:  ['Age', 'Class', 'Name', 'addr', 'school']\n",
      "sorted set:  ['C', 'D', 'E', 'John', 'Marry', 'Tom', 'apple']\n",
      "反序:  ['apple', 'Tom', 'Marry', 'John', 'E', 'D', 'C']\n",
      "[4, 21, 32, 51, 71, 76, 77, 78, 90, 90]\n",
      "[90, 90, 78, 77, 76, 71, 51, 32, 21, 4]\n"
     ]
    }
   ],
   "source": [
    "\n",
    "wlist = ['Marry','Tom','John','C','E','D', 'apple', 'Apple']\n",
    "print('原始', wlist)\n",
    "wlist = sorted(wlist) # 排序 字典序\n",
    "print('sorted: ',wlist)\n",
    "\n",
    "d = {'Name': 5, 'Age': 7, 'Class': 'First', 'school':'高師大附中', 'addr':'凱旋路'}\n",
    "my = sorted(d)\n",
    "print('sorted dict: ',my)\n",
    "\n",
    "myset = {'Marry','Tom','John','C','E','D', 'apple'}\n",
    "my = sorted(myset)\n",
    "print('sorted set: ',my)\n",
    "print('反序: ', sorted(my, reverse=True)) # 反向排序 大到小排序\n",
    "\n",
    "\n",
    "from random import randint\n",
    "nlist = [randint(0, 99) for i in range(10)]\n",
    "\n",
    "print(sorted(nlist)) # 小到大排序\n",
    "print(sorted(nlist, reverse=True)) # 反向排序 大到小排序\n"
   ]
  },
  {
   "cell_type": "markdown",
   "metadata": {},
   "source": [
    "# 自訂排序\n",
    "\n",
    "標準排序是用標準的字典排序法，但如果需要特殊排序原則，則需要自訂排序。比如: 有一批英文單字，想要依單字長度進行排序。"
   ]
  },
  {
   "cell_type": "markdown",
   "metadata": {},
   "source": [
    "## 用 key 指定排序函數\n",
    "\n",
    "    此時要自訂一個 key 函數來決定排序原則"
   ]
  },
  {
   "cell_type": "code",
   "execution_count": 8,
   "metadata": {},
   "outputs": [
    {
     "name": "stdout",
     "output_type": "stream",
     "text": [
      "['hi', 'book', 'hello', 'apple']\n",
      "['hi', 'book', 'apple', 'hello']\n"
     ]
    }
   ],
   "source": [
    "# 用單字長度進行排序\n",
    "words = ['hello', 'hi', 'book', 'apple']\n",
    "def sort_key(word):\n",
    "    return len(word)\n",
    "words = sorted(words, key=sort_key)\n",
    "print(words)\n",
    "\n",
    "\n",
    "# 長度相同的，就按原始順序排序。稱作 stable 排序\n",
    "words = ['apple', 'hello', 'hi', 'book']\n",
    "def sort_key(word):\n",
    "    return len(word)\n",
    "\n",
    "words = sorted(words, key=sort_key)\n",
    "print(words)\n"
   ]
  },
  {
   "cell_type": "markdown",
   "metadata": {},
   "source": [
    "## 對 dict 的 value 排序"
   ]
  },
  {
   "cell_type": "code",
   "execution_count": 14,
   "metadata": {},
   "outputs": [
    {
     "name": "stdout",
     "output_type": "stream",
     "text": [
      "[('sophie', 8), ('phil', 10), ('tommy', 17)]\n"
     ]
    }
   ],
   "source": [
    "d = {'phil': 10, 'tommy':17, 'sophie': 8}\n",
    "\n",
    "def sorted_key(item):\n",
    "    return item[1]\n",
    "\n",
    "print(sorted(d.items(), key=sorted_key))"
   ]
  },
  {
   "cell_type": "markdown",
   "metadata": {},
   "source": [
    "## 使用 lambda 函數來排序"
   ]
  },
  {
   "cell_type": "code",
   "execution_count": 14,
   "metadata": {},
   "outputs": [
    {
     "data": {
      "text/plain": [
       "[('dave', 'B', 10), ('jane', 'B', 12), ('john', 'A', 15)]"
      ]
     },
     "execution_count": 14,
     "metadata": {},
     "output_type": "execute_result"
    }
   ],
   "source": [
    "students = [('john', 'A', 15), ('jane', 'B', 12), ('dave','B', 10)]\n",
    "sorted(students,key=lambda x: x[2]) #依照年齡排序\n"
   ]
  },
  {
   "cell_type": "markdown",
   "metadata": {},
   "source": [
    "## 自行決定字母順序"
   ]
  },
  {
   "cell_type": "code",
   "execution_count": 13,
   "metadata": {},
   "outputs": [
    {
     "name": "stdout",
     "output_type": "stream",
     "text": [
      "['accba', 'ababa', 'cbaba', 'bbaa']\n"
     ]
    }
   ],
   "source": [
    "my_alphabet = ['a', 'c', 'b'] \n",
    "def custom_key(word):\n",
    "    numbers = [] \n",
    "    for letter in word: \n",
    "        numbers.append(my_alphabet.index(letter)) \n",
    "    return numbers # python 把所有字母變成相對應的位置 list 就可以透過 list 來排序。\n",
    "    # custom_key('cbaba')==[2, 1, 0, 1, 0] \n",
    "   \n",
    "\n",
    "x = ['cbaba', 'ababa', 'bbaa', 'accba'] \n",
    "x.sort(key=custom_key)\n",
    "\n",
    "print(x)\n"
   ]
  },
  {
   "cell_type": "markdown",
   "metadata": {},
   "source": [
    "# 使用 cmp_to_key 進行排序 (元素間有關聯)\n",
    "\n",
    "### 雖然 python3 的 sorted 取消了 cmp 參數，但有些動作用 cmp 做還是比較方便。\n",
    "### 因此仍有機會使用 cmp\n",
    "\n",
    "### 比如數字重新排列出最大的數字"
   ]
  },
  {
   "cell_type": "code",
   "execution_count": 18,
   "metadata": {},
   "outputs": [
    {
     "name": "stdout",
     "output_type": "stream",
     "text": [
      "[1, 2, 333, 8, 234, 5923, 7, 49]\n",
      "8759234933323421\n",
      "8759234933323421\n"
     ]
    }
   ],
   "source": [
    "import functools\n",
    "\n",
    "ss = [1, 2, 333, 8, 234, 5923, 7, 49]\n",
    "print(ss)\n",
    "\n",
    "def cmp(a, b):\n",
    "    '''\n",
    "    a > b: 正數\n",
    "    a < b: 負數\n",
    "    a = b: 0\n",
    "    '''\n",
    "    if str(a)+str(b) > str(b)+str(a):\n",
    "        return 1\n",
    "    if str(a)+str(b) < str(b)+str(a):\n",
    "        return -1\n",
    "    else:\n",
    "        return 0\n",
    "\n",
    "\n",
    "def cmp2(a, b):\n",
    "    '''\n",
    "    a > b: 正數\n",
    "    a < b: 負數\n",
    "    a = b: 0\n",
    "    '''\n",
    "    return int(str(a)+str(b))-int(str(b)+str(a))\n",
    "\n",
    "sss = sorted(ss, key=functools.cmp_to_key(cmp), reverse=True)\n",
    "print(''.join(map(str,sss)))\n",
    "\n",
    "sss = sorted(ss, key=functools.cmp_to_key(cmp2), reverse=True)\n",
    "print(''.join(map(str,sss)))\n"
   ]
  }
 ],
 "metadata": {
  "kernelspec": {
   "display_name": "Python 3",
   "language": "python",
   "name": "python3"
  },
  "language_info": {
   "codemirror_mode": {
    "name": "ipython",
    "version": 3
   },
   "file_extension": ".py",
   "mimetype": "text/x-python",
   "name": "python",
   "nbconvert_exporter": "python",
   "pygments_lexer": "ipython3",
   "version": "3.6.5"
  }
 },
 "nbformat": 4,
 "nbformat_minor": 2
}
