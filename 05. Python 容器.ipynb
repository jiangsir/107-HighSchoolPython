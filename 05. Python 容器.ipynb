{
 "cells": [
  {
   "cell_type": "markdown",
   "metadata": {},
   "source": [
    "## Python 容器\n",
    "\n",
    "### Python 常用的容器型態： list、set、dict、tuple。\n",
    "\n",
    "依據它所使用的括號可以分成：\n",
    "\n",
    "* 小括號：tuple\n",
    "* 中括號：list\n",
    "* 大括號：dict, set\n",
    "\n",
    "\n",
    "Python 的物件分成兩種\n",
    "* Immutable Object：不可修改\n",
    "* numbers\n",
    "* booleans\n",
    "* strings\n",
    "* tuples\n",
    "* frozensets\n",
    "\n",
    "Mutable Object：可修改 \n",
    "* list\n",
    "* dict \n",
    "* set"
   ]
  },
  {
   "cell_type": "markdown",
   "metadata": {},
   "source": [
    "# Tuple () 小括號 -- 元組\n"
   ]
  },
  {
   "cell_type": "code",
   "execution_count": 2,
   "metadata": {},
   "outputs": [
    {
     "name": "stdout",
     "output_type": "stream",
     "text": [
      "(10, 12)\n",
      "<class 'tuple'>\n",
      "<class 'list'>\n",
      "[20, 11]\n"
     ]
    },
    {
     "ename": "TypeError",
     "evalue": "'tuple' object does not support item assignment",
     "output_type": "error",
     "traceback": [
      "\u001b[1;31m---------------------------------------------------------------------------\u001b[0m",
      "\u001b[1;31mTypeError\u001b[0m                                 Traceback (most recent call last)",
      "\u001b[1;32m<ipython-input-2-c1b38491469e>\u001b[0m in \u001b[0;36m<module>\u001b[1;34m()\u001b[0m\n\u001b[0;32m      8\u001b[0m \u001b[0mprint\u001b[0m\u001b[1;33m(\u001b[0m\u001b[0my\u001b[0m\u001b[1;33m)\u001b[0m\u001b[1;33m\u001b[0m\u001b[0m\n\u001b[0;32m      9\u001b[0m \u001b[1;33m\u001b[0m\u001b[0m\n\u001b[1;32m---> 10\u001b[1;33m \u001b[0mx\u001b[0m\u001b[1;33m[\u001b[0m\u001b[1;36m0\u001b[0m\u001b[1;33m]\u001b[0m \u001b[1;33m=\u001b[0m \u001b[1;36m15\u001b[0m  \u001b[1;31m#無法更改內容\u001b[0m\u001b[1;33m\u001b[0m\u001b[0m\n\u001b[0m",
      "\u001b[1;31mTypeError\u001b[0m: 'tuple' object does not support item assignment"
     ]
    }
   ],
   "source": [
    "x = (10,12) # 用小掛號設定 tuple\n",
    "print(x)\n",
    "x = (10,11)\n",
    "print(type(x))\n",
    "y = list(x) # 轉換成 list\n",
    "print(type(y))\n",
    "y[0] = 20 # list 就可以寫入了。\n",
    "print(y)\n",
    "\n",
    "x[0] = 15  #無法更改內容\n"
   ]
  },
  {
   "cell_type": "markdown",
   "metadata": {},
   "source": [
    "# list [] 中括號 -- 串列\n"
   ]
  },
  {
   "cell_type": "markdown",
   "metadata": {},
   "source": [
    "## 初始化"
   ]
  },
  {
   "cell_type": "code",
   "execution_count": 6,
   "metadata": {},
   "outputs": [
    {
     "name": "stdout",
     "output_type": "stream",
     "text": [
      "list1= []\n",
      "list1= ['X']\n",
      "list2[1]= B\n",
      "list2= ['A', 'B', 'C', 'D', 'E']\n",
      "list2= ['B', 'B', 'C', 'D', 'E']\n",
      "list3= [1, 2, 3, 4, 5]\n",
      "list3[1][4]= 5\n",
      "list4= [0, 0, 0, 0, 0, 0, 0, 0, 0, 0]\n"
     ]
    }
   ],
   "source": [
    "list1 = [] # 用中括號 設定一個空的 list\n",
    "print(\"list1=\", list1)\n",
    "list1.append('X')\n",
    "print(\"list1=\", list1)\n",
    "\n",
    "list2 = ['A','B','C','D','E'] # 手動列出所有 list 內的元素\n",
    "print(\"list2[1]=\", list2[1])\n",
    "print(\"list2=\", list2)\n",
    "list2[0] = 'B' # 把第一個元素設定為 'B'\n",
    "print(\"list2=\", list2)\n",
    "\n",
    "list3 = [['A','B','C','D','E'] , [1,2,3,4,5]] # 雙重 List 類似於二維陣列\n",
    "print(\"list3=\", list3[1])\n",
    "print(\"list3[1][4]=\", list3[1][4])\n",
    "\n",
    "# 初始化一個特定長度的 list 並且給定一個初始值\n",
    "list4 = [0] * 10\n",
    "print('list4=', list4)"
   ]
  },
  {
   "cell_type": "code",
   "execution_count": 7,
   "metadata": {},
   "outputs": [
    {
     "name": "stdout",
     "output_type": "stream",
     "text": [
      "['A', 'B', 'C', 'D', 'E']\n",
      "['B', 'B', 'C', 'D', 'E']\n",
      "['A', 'B', 'C', 'D', 'E', 'F']\n",
      "['A', 'B', 'C', 'D', 'E', 'F', [1, 2, 3]]\n",
      "['A', 'B', 'C', 'D', 'E', 'F', [1, 2, 3], 'G', 'H', 'I']\n",
      "['A', 'B', 'C', 'D', 'E', 'F', [1, 2, 3], 'G', 'H', 'I', 'J', 'K', 'L']\n"
     ]
    }
   ],
   "source": [
    "x = [] # 用中括號設定 list\n",
    "slist = ['A','B','C','D','E']\n",
    "print(slist)\n",
    "slist[0] = 'B'\n",
    "print(slist)\n",
    "\n",
    "slist = ['A','B','C','D','E']\n",
    "slist.append('F') # 在最後增加單一個項目 => append\n",
    "print(slist)\n",
    "slist.append([1,2,3])  # 最後增加一個項目，這個項目本身是一個 list\n",
    "print(slist)\n",
    "slist.extend(['G','H','I']) #在最後\"串接\"一個串列 print(slist)\n",
    "print(slist)\n",
    "slist = slist + ['J', 'K', 'L'] #在最後\"串接\"一個串列 \n",
    "print(slist)\n"
   ]
  },
  {
   "cell_type": "code",
   "execution_count": 8,
   "metadata": {},
   "outputs": [
    {
     "name": "stdout",
     "output_type": "stream",
     "text": [
      "['A', '0', 'B', 'C', 'D', 'E', 'F', [1, 2, 3], 'G', 'H', 'I', 'J', 'K', 'L']\n",
      "['A', '0', 'B', ['3', '4'], 'C', 'D', 'E', 'F', [1, 2, 3], 'G', 'H', 'I', 'J', 'K', 'L']\n",
      "['A', '0', 'a', 'b', 'c']\n"
     ]
    }
   ],
   "source": [
    "slist.insert(1,'0')  #insert(位置,item) \n",
    "print(slist)\n",
    "slist.insert(3,['3', '4'])  #insert(位置,item) \n",
    "print(slist)\n",
    "slist[2:] = ['a', 'b', 'c'] # 在 slist 2:最後 取代 list\n",
    "plist = ['A','B','C','D','E']\n",
    "print(slist)"
   ]
  },
  {
   "cell_type": "code",
   "execution_count": 4,
   "metadata": {},
   "outputs": [
    {
     "name": "stdout",
     "output_type": "stream",
     "text": [
      "['A', 'C', 'D', 'E']\n",
      "['A', 'E']\n",
      "E\n",
      "['A', 'B', 'C', 'D']\n",
      "1\n",
      "True\n",
      "False\n"
     ]
    }
   ],
   "source": [
    "slist = ['A','B','C','D','E']\n",
    "del slist[1] #刪除指定位置項目 => del\n",
    "print(slist)\n",
    "slist[1:3] = [] # 刪除 1~2 的項目\n",
    "print(slist)\n",
    "\n",
    "plist = ['A','B','C','D','E']\n",
    "print(plist.pop()) #預設移出刪除最後一項 = pop(-1) , 若pop(0)則是移出開頭項\n",
    "print(plist)\n",
    "print(plist.index('B'))  #找出項目值的位置 => index 只會找出第一個出現的位置\n",
    "\n",
    "clist = ['A','B','C','D','E']\n",
    "print('B' in clist) # 判斷項目是否存在於list中 => in\n",
    "print('F' in clist)"
   ]
  },
  {
   "cell_type": "markdown",
   "metadata": {},
   "source": [
    "## 串列的排序"
   ]
  },
  {
   "cell_type": "code",
   "execution_count": null,
   "metadata": {},
   "outputs": [],
   "source": [
    "\n",
    "wlist = ['D','A','F','C','E','D']\n",
    "print(wlist)\n",
    "\n",
    "sorted(wlist)\n",
    "print(wlist)\n",
    "\n",
    "wlist = sorted(wlist) # 排序 字典序\n",
    "print(wlist)\n",
    "\n",
    "nlist = [4,23,1,3,2,98,3]\n",
    "print(sorted(nlist)) # 排序\n"
   ]
  },
  {
   "cell_type": "code",
   "execution_count": 20,
   "metadata": {},
   "outputs": [
    {
     "name": "stdout",
     "output_type": "stream",
     "text": [
      "min= 1\n",
      "max= 98\n"
     ]
    }
   ],
   "source": [
    "nlist = [4,23,1,3,2,98,3]\n",
    "print('min=', min(nlist))\n",
    "print('max=', max(nlist))\n"
   ]
  },
  {
   "cell_type": "markdown",
   "metadata": {},
   "source": [
    "## 列表生成式\n",
    "\n",
    "Python 沒有陣列的概念，因此可以用 list 來模擬。\n",
    "\n",
    "基本語法如下:\n",
    "\n",
    "    [ 變數表達式 for 變數 in 表達式 if 過濾器]"
   ]
  },
  {
   "cell_type": "code",
   "execution_count": 1,
   "metadata": {},
   "outputs": [
    {
     "name": "stdout",
     "output_type": "stream",
     "text": [
      "[1, 4, 9, 16, 25, 36, 49, 64, 81]\n",
      "[4, 16, 36, 64, 100]\n",
      "['A1', 'A2', 'A3', 'B1', 'B2', 'B3', 'C1', 'C2', 'C3']\n",
      "{'Java': '99', 'C': '99', 'C++': '99'}\n",
      "['Java=99', 'C=99', 'C++=99']\n"
     ]
    }
   ],
   "source": [
    "a = [x ** 2 for x in range(1, 10)]\n",
    "print(a)\n",
    "\n",
    "b = [x * x for x in range(1, 11) if x % 2 == 0]\n",
    "print(b)\n",
    "\n",
    "c = [m + n for m in 'ABC' for n in '123']\n",
    "print(c)\n",
    "\n",
    "d = {'Java': \"99\", 'C': \"99\", 'C++': \"99\"}\n",
    "print(d)\n",
    "\n",
    "L = [k + '=' + v for k, v in d.items()]\n",
    "print(L)\n"
   ]
  },
  {
   "cell_type": "markdown",
   "metadata": {},
   "source": [
    "## 隨機串列"
   ]
  },
  {
   "cell_type": "code",
   "execution_count": 5,
   "metadata": {},
   "outputs": [
    {
     "name": "stdout",
     "output_type": "stream",
     "text": [
      "[3, 2, 0, 2, 6, 7, 4, 2, 6, 1]\n",
      "[4, 7, 3, 8, 5, 9, 1, 10, 2, 6]\n",
      "[8]\n",
      "[7, 8, 9, 4]\n"
     ]
    }
   ],
   "source": [
    "from random import *\n",
    "\n",
    "# 創建一個隨機數列 (允許重複)\n",
    "items = [randint(0, 9) for i in range(10)]\n",
    "print(items)\n",
    "\n",
    "# 對一個 list 進行洗牌 (不會重複)\n",
    "items = [1, 2, 3, 4, 5, 6, 7, 8, 9, 10]\n",
    "shuffle(items)\n",
    "print(items)\n",
    "\n",
    "# 在 list 當中 隨機取出 n 個數字\n",
    "items = [1, 2, 3, 4, 5, 6, 7, 8, 9, 10]\n",
    "x = sample(items,  1)   # Pick a random item from the list\n",
    "print(x)\n",
    "\n",
    "y = sample(items, 4)    # Pick 4 random items from the list\n",
    "print(y)"
   ]
  },
  {
   "cell_type": "markdown",
   "metadata": {},
   "source": [
    "# dict {} 大括號 -- 字典"
   ]
  },
  {
   "cell_type": "code",
   "execution_count": 1,
   "metadata": {},
   "outputs": [
    {
     "name": "stdout",
     "output_type": "stream",
     "text": [
      "d['Name']:  Ronaldo\n",
      "d['Age']:  8\n",
      "d['School']:  高師大附中\n",
      "{'Name': 'Ronaldo', 'Age': 8, 'Class': 'First', 'School': '高師大附中'}\n"
     ]
    }
   ],
   "source": [
    "# 字典 d = {key1 : value1, key2 : value2 }\n",
    "# key 必須是唯一的，value 則不需要\n",
    "# value 可以是任意資料型態， key 則必須是不可變的，如 string, int , tuple\n",
    "\n",
    "d = {} # 建立一個空的 dict\n",
    "d = {1: 'Ronaldo', 3: 7, 5: 'First'}\n",
    "d = {'Name': 'Ronaldo', 'Age': 7, 'Class': 'First'}\n",
    "\n",
    "d['Age'] = 8;               # 更新 Age\n",
    "d['School'] = \"高師大附中\"  # 新增一個 key\n",
    "print (\"d['Name']: \", d['Name'])\n",
    "print (\"d['Age']: \", d['Age'])\n",
    "print (\"d['School']: \", d['School'])\n",
    "print(d)"
   ]
  },
  {
   "cell_type": "code",
   "execution_count": 2,
   "metadata": {},
   "outputs": [
    {
     "name": "stdout",
     "output_type": "stream",
     "text": [
      "{1: 'a', 2: 'b', 3: 'c'}\n",
      "<class 'dict'>\n",
      "d[2]= b\n",
      "{1: 'a', 2: 'b', 3: 'c', 4: 'd'}\n",
      "True\n",
      "False\n",
      "len(d)= 4\n"
     ]
    }
   ],
   "source": [
    "d = {1:\"a\", 2:\"b\", 3:\"c\"}\n",
    "print(d)\n",
    "print(type(d))\n",
    "print(\"d[2]=\", d[2])\n",
    "d[4] = \"d\"\n",
    "print(d)\n",
    "print(3 in d)\n",
    "print(3 not in d)\n",
    "print(\"len(d)=\", len(d))"
   ]
  },
  {
   "cell_type": "code",
   "execution_count": 3,
   "metadata": {},
   "outputs": [
    {
     "name": "stdout",
     "output_type": "stream",
     "text": [
      "{'Name': 'Ronaldo', 'Class': 'First', 'school': '高師大附中', 'addr': '凱旋路'}\n",
      "Ronaldo\n",
      "Ronaldo\n",
      "{'Class': 'First', 'school': '高師大附中', 'addr': '凱旋路'}\n"
     ]
    }
   ],
   "source": [
    "d = {'Name': 'Ronaldo', 'Age': 7, 'Class': 'First', 'school':'高師大附中', 'addr':'凱旋路'}\n",
    "del d['Age']\n",
    "print(d)\n",
    "print(d.get('Name'))\n",
    "print(d.pop('Name'))\n",
    "print(d)"
   ]
  },
  {
   "cell_type": "code",
   "execution_count": 4,
   "metadata": {},
   "outputs": [
    {
     "name": "stdout",
     "output_type": "stream",
     "text": [
      "l1= <class 'list'>\n",
      "l1= ['First', '高師大附中', '凱旋路']\n",
      "l2= <class 'list'>\n",
      "l2= ['Class', 'school', 'addr']\n",
      "sorted(d)= ['Class', 'addr', 'school']\n",
      "{1: 'a', 2: 56, 3: 'xxx', 5: 'zzz', 4: 'yyy'}\n"
     ]
    }
   ],
   "source": [
    "l1 = list(d.values()) # 將 values 轉成 list\n",
    "print(\"l1=\", type(l1))\n",
    "print(\"l1=\", l1)\n",
    "l2 = list(d.keys())  # 將 keys 轉成 list\n",
    "print(\"l2=\", type(l2))\n",
    "print(\"l2=\", l2)\n",
    "print(\"sorted(d)=\",sorted(d)) # 把 keys 變成一個 list 並排序\n",
    "\n",
    "# 合併兩個 dict\n",
    "d1= {1:\"a\", 2:56, 3:\"c\"}\n",
    "d2= {5:\"zzz\", 4:\"yyy\", 3:\"xxx\"}\n",
    "# print(d1+d2) # dict 合併不能使用 + \n",
    "d1.update(d2)\n",
    "print(d1)\n"
   ]
  },
  {
   "cell_type": "markdown",
   "metadata": {},
   "source": [
    "# {} 容器 -- set \n",
    "\n",
    "這裡的 set 就是數學上的\"集合\", 集合內的元素不會重複。\n"
   ]
  },
  {
   "cell_type": "code",
   "execution_count": 10,
   "metadata": {},
   "outputs": [
    {
     "name": "stdout",
     "output_type": "stream",
     "text": [
      "<class 'set'>\n",
      "<class 'set'>\n"
     ]
    }
   ],
   "source": [
    "myset = set()\n",
    "print(type(myset))\n",
    "\n",
    "myset = {0} # 初始化一個值就可以判斷不是 dict 而是 set\n",
    "print(type(myset))"
   ]
  },
  {
   "cell_type": "code",
   "execution_count": 21,
   "metadata": {},
   "outputs": [
    {
     "name": "stdout",
     "output_type": "stream",
     "text": [
      "{'a', 'b', 'r', 'd', 'c'}\n",
      "{'d', 'b', 'r'}\n",
      "{'a', 'b', 'm', 'z', 'l', 'r', 'd', 'c'}\n",
      "{'a', 'c'}\n",
      "{'z', 'd', 'l', 'r', 'b', 'm'}\n"
     ]
    }
   ],
   "source": [
    "a = set('abracadabra')\n",
    "b = set('alacazam')\n",
    "print(a)\n",
    "\n",
    "print(a - b)                              # 集合a中包含而集合b中不包含的元素\n",
    "\n",
    "print(a | b)                              # 集合a或b中包含的所有元素\n",
    "\n",
    "print(a & b)                              # 集合a和b中都包含了的元素\n",
    "\n",
    "print(a ^ b)                              # 不同时包含于a和b的元素\n"
   ]
  },
  {
   "cell_type": "markdown",
   "metadata": {},
   "source": [
    "### 進階的容器\n",
    "\n",
    "* defaultdict: 與 dict 類似, 只是不需要檢查 key 是否存在\n",
    "* counter: 自動統計每個值的出現次數\n",
    "* deque: 雙頭的 queue\n",
    "* namedtuple: 有 key 的 tuple\n",
    "* enum.Enum (包含在Python 3.4以上): 枚舉, 可以明確地表列所有允許的值"
   ]
  },
  {
   "cell_type": "markdown",
   "metadata": {},
   "source": [
    "## 遍歷"
   ]
  },
  {
   "cell_type": "code",
   "execution_count": 1,
   "metadata": {},
   "outputs": [
    {
     "name": "stdout",
     "output_type": "stream",
     "text": [
      "x = A\n",
      "y = B\n",
      "z = C\n"
     ]
    }
   ],
   "source": [
    "d = {'x': 'A', 'y': 'B', 'z': 'C' }\n",
    "for k, v in d.items():\n",
    "    print(k, '=', v)\n"
   ]
  },
  {
   "cell_type": "markdown",
   "metadata": {},
   "source": [
    "## 解包\n",
    "\n",
    "將容器內的元素一一解開並列出"
   ]
  },
  {
   "cell_type": "code",
   "execution_count": 5,
   "metadata": {},
   "outputs": [
    {
     "name": "stdout",
     "output_type": "stream",
     "text": [
      "['aa', 'bb', 'cc', 'dd']\n",
      "aa bb cc dd\n",
      "aa:bb:cc:dd\n",
      "{'key1': 'aa', 'key2': 'bb', 'key3': 'cc', 'key4': 'dd'}\n",
      "key1 key2 key3 key4\n",
      "key1:key2:key3:key4\n"
     ]
    }
   ],
   "source": [
    "ll = ['aa', 'bb', 'cc', 'dd']\n",
    "\n",
    "# 預設的顯示方式\n",
    "print(ll)\n",
    "\n",
    "# 解包預設用 空白隔開\n",
    "print(*ll)\n",
    "\n",
    "# 用 join 來顯示各元素\n",
    "print(':'.join(ll))\n",
    "\n",
    "\n",
    "dd = {'key1':'aa', 'key2':'bb', 'key3':'cc', 'key4':'dd'}\n",
    "\n",
    "# 預設的顯示方式\n",
    "print(dd)\n",
    "\n",
    "# 解包預設用 空白隔開\n",
    "print(*dd)\n",
    "\n",
    "# 用 join 來顯示各元素\n",
    "print(':'.join(dd))\n"
   ]
  },
  {
   "cell_type": "markdown",
   "metadata": {},
   "source": [
    "## 用 Counter 計算重複次數"
   ]
  },
  {
   "cell_type": "code",
   "execution_count": 11,
   "metadata": {},
   "outputs": [
    {
     "name": "stdout",
     "output_type": "stream",
     "text": [
      "[('eyes', 8), ('the', 5), ('look', 4)]\n"
     ]
    }
   ],
   "source": [
    "words = [\n",
    "    'look', 'into', 'my', 'eyes', 'look', 'into', 'my', 'eyes',\n",
    "    'the', 'eyes', 'the', 'eyes', 'the', 'eyes', 'not', 'around', 'the',\n",
    "    'eyes', \"don't\", 'look', 'around', 'the', 'eyes', 'look', 'into',\n",
    "    'my', 'eyes', \"you're\", 'under'\n",
    "]\n",
    "from collections import Counter\n",
    "word_counts = Counter(words)\n",
    "# 出现频率最高的3个单词\n",
    "top_three = word_counts.most_common(3)\n",
    "print(top_three)\n",
    "# Outputs [('eyes', 8), ('the', 5), ('look', 4)]"
   ]
  },
  {
   "cell_type": "markdown",
   "metadata": {},
   "source": [
    "## 計數的加減 聯集 差集"
   ]
  },
  {
   "cell_type": "code",
   "execution_count": 14,
   "metadata": {},
   "outputs": [
    {
     "name": "stdout",
     "output_type": "stream",
     "text": [
      "Counter({'eyes': 8, 'the': 5, 'look': 4, 'into': 3, 'my': 3, 'around': 2, 'not': 1, \"don't\": 1, \"you're\": 1, 'under': 1})\n",
      "Counter({'why': 1, 'are': 1, 'you': 1, 'not': 1, 'looking': 1, 'in': 1, 'my': 1, 'eyes': 1})\n",
      "Counter({'eyes': 9, 'the': 5, 'look': 4, 'my': 4, 'into': 3, 'not': 2, 'around': 2, \"don't\": 1, \"you're\": 1, 'under': 1, 'why': 1, 'are': 1, 'you': 1, 'looking': 1, 'in': 1})\n",
      "Counter({'eyes': 7, 'the': 5, 'look': 4, 'into': 3, 'my': 2, 'around': 2, \"don't\": 1, \"you're\": 1, 'under': 1})\n"
     ]
    },
    {
     "data": {
      "text/plain": [
       "Counter({'eyes': 7,\n",
       "         'the': 5,\n",
       "         'look': 4,\n",
       "         'into': 3,\n",
       "         'my': 2,\n",
       "         'around': 2,\n",
       "         \"you're\": 1,\n",
       "         \"don't\": 1,\n",
       "         'under': 1})"
      ]
     },
     "execution_count": 14,
     "metadata": {},
     "output_type": "execute_result"
    }
   ],
   "source": [
    "from collections import Counter\n",
    "\n",
    "words = [\n",
    "    'look', 'into', 'my', 'eyes', 'look', 'into', 'my', 'eyes',\n",
    "    'the', 'eyes', 'the', 'eyes', 'the', 'eyes', 'not', 'around', 'the',\n",
    "    'eyes', \"don't\", 'look', 'around', 'the', 'eyes', 'look', 'into',\n",
    "    'my', 'eyes', \"you're\", 'under'\n",
    "]\n",
    "\n",
    "morewords = ['why','are','you','not','looking','in','my','eyes']\n",
    "a = Counter(words)\n",
    "b = Counter(morewords)\n",
    "print(a)\n",
    "Counter({'eyes': 8, 'the': 5, 'look': 4, 'into': 3, 'my': 3, 'around': 2,\n",
    "\"you're\": 1, \"don't\": 1, 'under': 1, 'not': 1})\n",
    "print(b)\n",
    "Counter({'eyes': 1, 'looking': 1, 'are': 1, 'in': 1, 'not': 1, 'you': 1,\n",
    "'my': 1, 'why': 1})\n",
    "# Combine counts\n",
    "c = a + b\n",
    "print(c)\n",
    "Counter({'eyes': 9, 'the': 5, 'look': 4, 'my': 4, 'into': 3, 'not': 2,\n",
    "'around': 2, \"you're\": 1, \"don't\": 1, 'in': 1, 'why': 1,\n",
    "'looking': 1, 'are': 1, 'under': 1, 'you': 1})\n",
    "# Subtract counts\n",
    "d = a - b\n",
    "print(d)\n",
    "Counter({'eyes': 7, 'the': 5, 'look': 4, 'into': 3, 'my': 2, 'around': 2,\n",
    "\"you're\": 1, \"don't\": 1, 'under': 1})\n"
   ]
  }
 ],
 "metadata": {
  "kernelspec": {
   "display_name": "Python 3",
   "language": "python",
   "name": "python3"
  },
  "language_info": {
   "codemirror_mode": {
    "name": "ipython",
    "version": 3
   },
   "file_extension": ".py",
   "mimetype": "text/x-python",
   "name": "python",
   "nbconvert_exporter": "python",
   "pygments_lexer": "ipython3",
   "version": "3.6.5"
  }
 },
 "nbformat": 4,
 "nbformat_minor": 2
}
