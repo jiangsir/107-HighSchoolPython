{
 "cells": [
  {
   "cell_type": "markdown",
   "metadata": {},
   "source": [
    "## 循序，分支，重複\n"
   ]
  },
  {
   "cell_type": "markdown",
   "metadata": {},
   "source": [
    "### 流程控制 -- 分支\n",
    "<pre>\n",
    "a = 10\n",
    "if a==0:\n",
    "    print(\"a 等於 0\")  # 請注意，print 一定要縮排 4 個空格\n",
    "else:\n",
    "    print(\"a 不等於 0\")\n",
    "\n",
    "\n",
    "if x>60:\n",
    "    print('x=', x)\n",
    "if 條件式1:\n",
    "    敘述1\n",
    "elif 條件式2:\n",
    "    敘述2dfsdf\n",
    "else:\n",
    "    敘述3\n",
    "</pre>"
   ]
  },
  {
   "cell_type": "code",
   "execution_count": 1,
   "metadata": {},
   "outputs": [
    {
     "name": "stdout",
     "output_type": "stream",
     "text": [
      "22\n",
      "相當於 122 歲的人\n"
     ]
    }
   ],
   "source": [
    "age = int(input())\n",
    "\n",
    "if age <= 0:\n",
    "    print(\"輸入錯誤!\")\n",
    "elif age == 1:\n",
    "    print(\"相當於 14 歲的人\")\n",
    "elif age == 2:\n",
    "    print(\"相當於 22 歲的人\")\n",
    "elif age > 2:\n",
    "    human = 22 + (age -2)*5\n",
    "    print(\"相當於\",human, \"歲的人\")"
   ]
  },
  {
   "cell_type": "markdown",
   "metadata": {},
   "source": [
    "## 巢狀結構\n",
    "<pre>\n",
    "if 條件1:\n",
    "    敘述1\n",
    "    if 條件2:\n",
    "        敘述2\n",
    "    elif 條件3:\n",
    "        敘述3\n",
    "    else:\n",
    "        敘述4\n",
    "elif 條件4:\n",
    "    敘述5\n",
    "else:\n",
    "    敘述6\n",
    "</pre>"
   ]
  },
  {
   "cell_type": "markdown",
   "metadata": {},
   "source": [
    "## 流程控制 -- 重複\n",
    "\n",
    "### for 迴圈\n",
    "    for 變數名稱 in 列表或字串:\n",
    "        pass\n",
    "        \n",
    "    for i in range(5):\n",
    "    相當於\n",
    "    for i in [0,1,2,3,4]:\n",
    "    \n",
    "### while 迴圈\n",
    "\n",
    "    while True:\n",
    "        print('while')\n",
    "    "
   ]
  },
  {
   "cell_type": "code",
   "execution_count": 5,
   "metadata": {},
   "outputs": [
    {
     "name": "stdout",
     "output_type": "stream",
     "text": [
      "01234\n",
      "1\n",
      "2\n",
      "3\n",
      "4\n",
      "0\n",
      "3\n",
      "6\n",
      "9\n"
     ]
    }
   ],
   "source": [
    "for i in range(5):\n",
    "    print(i, end=\"\")\n",
    "print()\n",
    "\n",
    "for i in range(1, 5):\n",
    "    print(i)\n",
    "    \n",
    "for i in range(0, 10, 3):\n",
    "    print(i)"
   ]
  },
  {
   "cell_type": "code",
   "execution_count": 3,
   "metadata": {},
   "outputs": [
    {
     "name": "stdout",
     "output_type": "stream",
     "text": [
      ": P\n",
      ": y\n",
      ": t\n",
      ": h\n",
      ": o\n",
      ": n\n"
     ]
    }
   ],
   "source": [
    "for letter in 'Python':\n",
    "    print(':', letter)"
   ]
  },
  {
   "cell_type": "code",
   "execution_count": 6,
   "metadata": {},
   "outputs": [
    {
     "name": "stdout",
     "output_type": "stream",
     "text": [
      "5\n",
      "4\n",
      "3\n",
      "2\n",
      "1\n"
     ]
    }
   ],
   "source": [
    "n = 5\n",
    "while n>0:\n",
    "    print(n)\n",
    "    n = n - 1"
   ]
  },
  {
   "cell_type": "markdown",
   "metadata": {},
   "source": [
    "## 迴圈的中斷\n",
    "\n",
    "break 可以將迴圈中斷\n"
   ]
  },
  {
   "cell_type": "code",
   "execution_count": 18,
   "metadata": {},
   "outputs": [
    {
     "name": "stdout",
     "output_type": "stream",
     "text": [
      "6\n"
     ]
    }
   ],
   "source": [
    "for i in range(10):\n",
    "    if i == 6:\n",
    "        print(i)\n",
    "        break"
   ]
  },
  {
   "cell_type": "code",
   "execution_count": 5,
   "metadata": {},
   "outputs": [
    {
     "name": "stdout",
     "output_type": "stream",
     "text": [
      "ABCDE1 到 100 之和为: 5050\n"
     ]
    }
   ],
   "source": [
    "\n",
    "k = ['A','B','C','D','E']\n",
    "\n",
    "for i in k :\n",
    "    print(i, end='')\n",
    "\n",
    "sum = 0\n",
    "counter = 1\n",
    "n = 100\n",
    "while counter <= n:\n",
    "    sum = sum + counter\n",
    "    counter += 1\n",
    " \n",
    "print(\"1 到 {} 之和为: {}\".format(n,sum))\n"
   ]
  },
  {
   "cell_type": "code",
   "execution_count": 6,
   "metadata": {},
   "outputs": [
    {
     "name": "stdout",
     "output_type": "stream",
     "text": [
      "0 小雞\n",
      "1 兩大類\n",
      "2 小喵\n",
      "3 小蟲\n"
     ]
    }
   ],
   "source": [
    "name_list = [\"小雞\", \"兩大類\", \"小喵\", \"小蟲\"]\n",
    "for index, name in enumerate(name_list):\n",
    "    print(index, name)"
   ]
  },
  {
   "cell_type": "markdown",
   "metadata": {},
   "source": [
    "\n",
    "## python 獨有的 迴圈 else:\n",
    "\n",
    "    for i in range(10):\n",
    "        print(i)\n",
    "    else:\n",
    "        print(\"迴圈順利結束\")\n"
   ]
  },
  {
   "cell_type": "code",
   "execution_count": null,
   "metadata": {},
   "outputs": [],
   "source": []
  },
  {
   "cell_type": "markdown",
   "metadata": {},
   "source": [
    "## 質數問題"
   ]
  },
  {
   "cell_type": "code",
   "execution_count": 3,
   "metadata": {},
   "outputs": [
    {
     "name": "stdout",
     "output_type": "stream",
     "text": [
      "2 3 5 7 11 13 17 19 23 29 31 37 41 43 47 53 59 61 67 71 73 79 83 89 97 "
     ]
    }
   ],
   "source": [
    "#找 0 ~ 100 所有的質數\n",
    "for num in range(2 ,100):\n",
    "    for i in range(2, num):\n",
    "        if num % i == 0:\n",
    "            break\n",
    "    else:\n",
    "        print(num, end=\" \")"
   ]
  },
  {
   "cell_type": "code",
   "execution_count": 1,
   "metadata": {},
   "outputs": [
    {
     "name": "stdout",
     "output_type": "stream",
     "text": [
      "x = A\n",
      "y = B\n",
      "z = C\n"
     ]
    }
   ],
   "source": [
    "d = {'x': 'A', 'y': 'B', 'z': 'C' }\n",
    "for k, v in d.items():\n",
    "    print(k, '=', v)\n"
   ]
  },
  {
   "cell_type": "code",
   "execution_count": null,
   "metadata": {},
   "outputs": [],
   "source": []
  }
 ],
 "metadata": {
  "kernelspec": {
   "display_name": "Python 3",
   "language": "python",
   "name": "python3"
  },
  "language_info": {
   "codemirror_mode": {
    "name": "ipython",
    "version": 3
   },
   "file_extension": ".py",
   "mimetype": "text/x-python",
   "name": "python",
   "nbconvert_exporter": "python",
   "pygments_lexer": "ipython3",
   "version": "3.6.5"
  }
 },
 "nbformat": 4,
 "nbformat_minor": 2
}
