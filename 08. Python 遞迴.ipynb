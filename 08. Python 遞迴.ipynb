{
 "cells": [
  {
   "cell_type": "markdown",
   "metadata": {},
   "source": [
    "# 遞迴\n",
    "\n",
    "遞迴的通俗說明:\n",
    "\n",
    "    假設你在一個電影院，你想知道自己坐在哪一排，但是前面人很多，你懶得去數了，於是你問前一排的人「你坐在哪一排？」，這樣前面的人 (代號 A) 回答你以後，你就知道自己在哪一排了——只要把 A 的答案加一，就是自己所在的排了。不料 A 比你還懶，他也不想數，於是他也問他前面的人 B「你坐在哪一排？」，這樣 A 可以用和你一模一樣的步驟知道自己所在的排。然後 B 也如法炮製。直到他們這一串人問到了最前面的一排，第一排的人告訴問問題的人「我在第一排」。最後大家就都知道自己在哪一排了。\n",
    "\n",
    "遞迴的數學意義:\n",
    "\n",
    "### 高一下數學1-1C觀念01遞迴關係 : 影片\n",
    "\n",
    "[![高一下數學1-1C觀念01遞迴關係](https://img.youtube.com/vi/Z3reUEQWi28/0.jpg)](https://www.youtube.com/watch?v=Z3reUEQWi28)\n",
    "\n",
    "### 由遞迴式求出一般項\n",
    "\n",
    "[![高一下數學1-1C觀念05後項=r*前項+d之遞迴關係](https://img.youtube.com/vi/ie-yQJgHVsY/0.jpg)](https://www.youtube.com/watch?v=ie-yQJgHVsY)\n",
    "\n",
    "\n",
    "### 數學歸納法\n",
    "[![高一下數學1-1D觀念01為何需要數學歸納法](https://img.youtube.com/vi/Y3TYDVcRehA/0.jpg)](https://www.youtube.com/watch?v=Y3TYDVcRehA)\n",
    "\n",
    "\n",
    "* 連加、連乘\n",
    "* Fib\n",
    "* 平面圓形切割\n",
    "* 猶太敢死隊問題\n",
    "* 約瑟夫問題\n",
    "* 香檳塔 1, 2, 3\n",
    "* 堆磚塊問題\n",
    "* "
   ]
  },
  {
   "cell_type": "markdown",
   "metadata": {},
   "source": [
    "## 遞迴問題首先要思考不要落入無窮迴圈\n",
    "\n",
    "<img src=\"images/recursion.gif\" alt=\"drawing\" width=\"200\"/>\n",
    "\n",
    "必須明確定義好終止條件。\n",
    "\n",
    "<img src=\"images/doll.jpg\" alt=\"drawing\" width=\"780\"/>\n",
    "\n"
   ]
  },
  {
   "cell_type": "markdown",
   "metadata": {},
   "source": [
    "## 請計算以下 n 層香檳塔總共有幾個香檳杯?\n",
    "\n",
    "<img src=\"images/recursion_line.jpg\">\n",
    "\n",
    "\n",
    "\n",
    "    先寫出遞迴式:\n",
    "    sum(n) = 1 , n == 1\n",
    "    sum(n) = sum(n-1) + n, n > 1\n",
    " \n",
    " "
   ]
  },
  {
   "cell_type": "code",
   "execution_count": 3,
   "metadata": {},
   "outputs": [
    {
     "name": "stdout",
     "output_type": "stream",
     "text": [
      "55\n"
     ]
    }
   ],
   "source": [
    "def sum(n):\n",
    "    if n == 1:\n",
    "        return 1\n",
    "    else:\n",
    "        return sum(n-1) + n\n",
    "\n",
    "n = 10\n",
    "\n",
    "print(sum(10))"
   ]
  },
  {
   "cell_type": "markdown",
   "metadata": {},
   "source": [
    "## 請計算 三角錐形香檳塔的香檳杯總數\n",
    "\n",
    "<img src=\"images/recursion_triangle.jpg\">"
   ]
  },
  {
   "cell_type": "markdown",
   "metadata": {},
   "source": [
    "## 請計算金字塔型香檳塔的香檳杯總數\n",
    "\n",
    "<img src=\"images/recursion_square.jpg\">"
   ]
  },
  {
   "cell_type": "markdown",
   "metadata": {},
   "source": [
    "## 平面切割\n",
    "<div style=\"float: left; vertical-align:middle;\">\n",
    "<img src=\"images/recursion_cut1.png\" width=200 style=\"float: left;\"><img src=\"images/recursion_cut2.png\" width=200 style=\"float: left;\"><img src=\"images/recursion_cut3.png\" width=200 style=\"float: left;\"><img src=\"images/recursion_cut4.png\" width=200 style=\"float: left;\"><img src=\"images/recursion_cut5.png\" width=200 style=\"float: left;\"></div>\n",
    "\n",
    "### 請問，在一個平面上切 n 刀，最多可以切出多少個區域?\n",
    "\n",
    "請寫出遞迴式:\n",
    "\n",
    "    cut(n) = 1 ; n =0\n",
    "    cut(n) = 2 ; n = 1\n",
    "    cut(n) = cut(n-1)+n; \n",
    "    "
   ]
  },
  {
   "cell_type": "markdown",
   "metadata": {},
   "source": [
    "## 最大公因數 GCD\n",
    "\n",
    "請寫出遞迴式:\n",
    "\n",
    "    gcd(a, b) = b; when a%b==0\n",
    "    gcd(a, b) = gcd(b, a%b)"
   ]
  },
  {
   "cell_type": "markdown",
   "metadata": {},
   "source": [
    "## 費式數列 Fibonacci\n",
    "\n",
    "請寫出遞迴式:\n",
    "\n",
    "    fib(n) = 1; when n==0\n",
    "    fib(n) = 1; when n==1\n",
    "    fib(n) = fib(n-1) + fib(n-2)"
   ]
  },
  {
   "cell_type": "markdown",
   "metadata": {},
   "source": [
    "## 排列，給你幾個字元，比如 a, b, c 請問能排出多少種不同順序?\n",
    "\n",
    "    比如: \n",
    "    a b c \n",
    "    a c b\n",
    "    b a c\n",
    "    b c a\n",
    "    ...."
   ]
  },
  {
   "cell_type": "markdown",
   "metadata": {},
   "source": []
  },
  {
   "cell_type": "markdown",
   "metadata": {},
   "source": [
    "## 遞迴暴搜"
   ]
  }
 ],
 "metadata": {
  "kernelspec": {
   "display_name": "Python 3",
   "language": "python",
   "name": "python3"
  },
  "language_info": {
   "codemirror_mode": {
    "name": "ipython",
    "version": 3
   },
   "file_extension": ".py",
   "mimetype": "text/x-python",
   "name": "python",
   "nbconvert_exporter": "python",
   "pygments_lexer": "ipython3",
   "version": "3.6.5"
  }
 },
 "nbformat": 4,
 "nbformat_minor": 2
}
